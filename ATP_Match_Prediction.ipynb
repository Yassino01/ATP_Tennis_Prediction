{
 "cells": [
  {
   "cell_type": "markdown",
   "metadata": {
    "id": "eSfAY_0BZfzl"
   },
   "source": [
    "## Tennis_match_outcomes_prediction by BARECHE Yassine"
   ]
  },
  {
   "cell_type": "code",
   "execution_count": 74,
   "metadata": {
    "id": "1wYQ8KgtjWXE"
   },
   "outputs": [],
   "source": [
    "# Imports :\n",
    "\n",
    "from time import time\n",
    "\n",
    "from urllib.request import urlopen  \n",
    "import os.path as osp\n",
    "import os\n",
    "import logging\n",
    "import zipfile\n",
    "from glob import glob\n",
    "\n",
    "import random\n",
    "import pandas as pd\n",
    "import numpy as np\n",
    "import seaborn as sns\n",
    "from pandas.plotting import scatter_matrix\n",
    "import matplotlib.pyplot as plt\n",
    "\n",
    "from sklearn.preprocessing import StandardScaler\n",
    "from sklearn.ensemble import RandomForestClassifier, AdaBoostClassifier\n",
    "from sklearn.tree import DecisionTreeClassifier\n",
    "from sklearn.neighbors import KNeighborsClassifier\n",
    "from sklearn.svm import SVC\n",
    "\n",
    "from sklearn import metrics as mts\n",
    "from sklearn.metrics import accuracy_score, precision_score, recall_score, f1_score, auc, classification_report, log_loss\n",
    "\n",
    "\n",
    "from keras import models, layers\n",
    "from keras.callbacks import ModelCheckpoint, EarlyStopping\n",
    "from keras import metrics\n",
    "from keras.models import load_model\n",
    "\n",
    "\n",
    "logging.getLogger().setLevel('INFO')"
   ]
  },
  {
   "cell_type": "markdown",
   "metadata": {
    "id": "WYsZNM98jWXN"
   },
   "source": [
    "## Helpers"
   ]
  },
  {
   "cell_type": "code",
   "execution_count": 2,
   "metadata": {
    "id": "2Mtw4x6JjWXO"
   },
   "outputs": [],
   "source": [
    "def download_file(url_str, path):\n",
    "    url = urlopen(url_str)\n",
    "    output = open(path, 'wb')       \n",
    "    output.write(url.read())\n",
    "    output.close()  \n",
    "    \n",
    "def extract_file(archive_path, target_dir):\n",
    "    zip_file = zipfile.ZipFile(archive_path, 'r')\n",
    "    zip_file.extractall(target_dir)\n",
    "    zip_file.close()"
   ]
  },
  {
   "cell_type": "markdown",
   "metadata": {
    "id": "4j_P7TpMjWXO"
   },
   "source": [
    "## Chargement des données : "
   ]
  },
  {
   "cell_type": "code",
   "execution_count": 3,
   "metadata": {
    "colab": {
     "base_uri": "https://localhost:8080/"
    },
    "id": "Q_lk3-bcjWXQ",
    "outputId": "226cdd1c-bad6-4c47-fe46-1eb1dd931182"
   },
   "outputs": [
    {
     "name": "stderr",
     "output_type": "stream",
     "text": [
      "INFO:root:downloading & extracting file http://tennis-data.co.uk/2000/2000.zip\n",
      "INFO:root:downloading & extracting file http://tennis-data.co.uk/2001/2001.zip\n",
      "INFO:root:downloading & extracting file http://tennis-data.co.uk/2002/2002.zip\n",
      "INFO:root:downloading & extracting file http://tennis-data.co.uk/2003/2003.zip\n",
      "INFO:root:downloading & extracting file http://tennis-data.co.uk/2004/2004.zip\n",
      "INFO:root:downloading & extracting file http://tennis-data.co.uk/2005/2005.zip\n",
      "INFO:root:downloading & extracting file http://tennis-data.co.uk/2006/2006.zip\n",
      "INFO:root:downloading & extracting file http://tennis-data.co.uk/2007/2007.zip\n",
      "INFO:root:downloading & extracting file http://tennis-data.co.uk/2008/2008.zip\n",
      "INFO:root:downloading & extracting file http://tennis-data.co.uk/2009/2009.zip\n",
      "INFO:root:downloading & extracting file http://tennis-data.co.uk/2010/2010.zip\n",
      "INFO:root:downloading & extracting file http://tennis-data.co.uk/2011/2011.zip\n",
      "INFO:root:downloading & extracting file http://tennis-data.co.uk/2012/2012.zip\n",
      "INFO:root:downloading & extracting file http://tennis-data.co.uk/2013/2013.zip\n",
      "INFO:root:downloading & extracting file http://tennis-data.co.uk/2014/2014.zip\n",
      "INFO:root:downloading & extracting file http://tennis-data.co.uk/2015/2015.zip\n",
      "INFO:root:downloading & extracting file http://tennis-data.co.uk/2016/2016.zip\n",
      "INFO:root:downloading & extracting file http://tennis-data.co.uk/2017/2017.zip\n",
      "INFO:root:downloading & extracting file http://tennis-data.co.uk/2018/2018.zip\n",
      "INFO:root:downloading & extracting file http://tennis-data.co.uk/2007w/2007.zip\n",
      "INFO:root:downloading & extracting file http://tennis-data.co.uk/2008w/2008.zip\n",
      "INFO:root:downloading & extracting file http://tennis-data.co.uk/2009w/2009.zip\n",
      "INFO:root:downloading & extracting file http://tennis-data.co.uk/2010w/2010.zip\n",
      "INFO:root:downloading & extracting file http://tennis-data.co.uk/2011w/2011.zip\n",
      "INFO:root:downloading & extracting file http://tennis-data.co.uk/2012w/2012.zip\n",
      "INFO:root:downloading & extracting file http://tennis-data.co.uk/2013w/2013.zip\n",
      "INFO:root:downloading & extracting file http://tennis-data.co.uk/2014w/2014.zip\n",
      "INFO:root:downloading & extracting file http://tennis-data.co.uk/2015w/2015.zip\n",
      "INFO:root:downloading & extracting file http://tennis-data.co.uk/2016w/2016.zip\n",
      "INFO:root:downloading & extracting file http://tennis-data.co.uk/2017w/2017.zip\n",
      "INFO:root:downloading & extracting file http://tennis-data.co.uk/2018w/2018.zip\n",
      "INFO:root:52298 matches ATP in df_atp\n",
      "INFO:root:29581 matches WTA in df_wta\n"
     ]
    }
   ],
   "source": [
    "BASE_URL = 'http://tennis-data.co.uk'\n",
    "DATA_DIR = \"tennis_data\"\n",
    "ATP_DIR = './{}/ATP'.format(DATA_DIR)\n",
    "WTA_DIR = './{}/WTA'.format(DATA_DIR)\n",
    "\n",
    "ATP_URLS = [BASE_URL + \"/%i/%i.zip\" % (i,i) for i in range(2000,2019)]\n",
    "WTA_URLS = [BASE_URL + \"/%iw/%i.zip\" % (i,i) for i in range(2007,2019)]\n",
    "\n",
    "os.makedirs(osp.join(ATP_DIR, 'archives'), exist_ok=True)\n",
    "os.makedirs(osp.join(WTA_DIR, 'archives'), exist_ok=True)\n",
    "\n",
    "for files, directory in ((ATP_URLS, ATP_DIR), (WTA_URLS, WTA_DIR)):\n",
    "    for dl_path in files:\n",
    "        logging.info(\"downloading & extracting file %s\", dl_path)\n",
    "        archive_path = osp.join(directory, 'archives', osp.basename(dl_path))\n",
    "        download_file(dl_path, archive_path)\n",
    "        extract_file(archive_path, directory)\n",
    "    \n",
    "ATP_FILES = sorted(glob(\"%s/*.xls*\" % ATP_DIR))\n",
    "WTA_FILES = sorted(glob(\"%s/*.xls*\" % WTA_DIR))\n",
    "\n",
    "\n",
    "df_atp = pd.concat([pd.read_excel(f) for f in ATP_FILES], ignore_index=True)\n",
    "df_wta = pd.concat([pd.read_excel(f) for f in WTA_FILES], ignore_index=True)\n",
    "\n",
    "logging.info(\"%i matches ATP in df_atp\", df_atp.shape[0])\n",
    "logging.info(\"%i matches WTA in df_wta\", df_wta.shape[0])"
   ]
  },
  {
   "cell_type": "code",
   "execution_count": 4,
   "metadata": {
    "colab": {
     "base_uri": "https://localhost:8080/",
     "height": 417
    },
    "id": "9ZtOurZ1jmzH",
    "outputId": "ed8a30db-bfbd-407d-f27e-98e0de1cb018"
   },
   "outputs": [
    {
     "data": {
      "text/html": [
       "<div>\n",
       "<style scoped>\n",
       "    .dataframe tbody tr th:only-of-type {\n",
       "        vertical-align: middle;\n",
       "    }\n",
       "\n",
       "    .dataframe tbody tr th {\n",
       "        vertical-align: top;\n",
       "    }\n",
       "\n",
       "    .dataframe thead th {\n",
       "        text-align: right;\n",
       "    }\n",
       "</style>\n",
       "<table border=\"1\" class=\"dataframe\">\n",
       "  <thead>\n",
       "    <tr style=\"text-align: right;\">\n",
       "      <th></th>\n",
       "      <th>ATP</th>\n",
       "      <th>Location</th>\n",
       "      <th>Tournament</th>\n",
       "      <th>Date</th>\n",
       "      <th>Series</th>\n",
       "      <th>Court</th>\n",
       "      <th>Surface</th>\n",
       "      <th>Round</th>\n",
       "      <th>Best of</th>\n",
       "      <th>Winner</th>\n",
       "      <th>Loser</th>\n",
       "      <th>WRank</th>\n",
       "      <th>LRank</th>\n",
       "      <th>W1</th>\n",
       "      <th>L1</th>\n",
       "      <th>W2</th>\n",
       "      <th>L2</th>\n",
       "      <th>W3</th>\n",
       "      <th>L3</th>\n",
       "      <th>W4</th>\n",
       "      <th>L4</th>\n",
       "      <th>W5</th>\n",
       "      <th>L5</th>\n",
       "      <th>Wsets</th>\n",
       "      <th>Lsets</th>\n",
       "      <th>Comment</th>\n",
       "      <th>CBW</th>\n",
       "      <th>CBL</th>\n",
       "      <th>GBW</th>\n",
       "      <th>GBL</th>\n",
       "      <th>IWW</th>\n",
       "      <th>IWL</th>\n",
       "      <th>SBW</th>\n",
       "      <th>SBL</th>\n",
       "      <th>B365W</th>\n",
       "      <th>B365L</th>\n",
       "      <th>B&amp;WW</th>\n",
       "      <th>B&amp;WL</th>\n",
       "      <th>EXW</th>\n",
       "      <th>EXL</th>\n",
       "      <th>PSW</th>\n",
       "      <th>PSL</th>\n",
       "      <th>WPts</th>\n",
       "      <th>LPts</th>\n",
       "      <th>UBW</th>\n",
       "      <th>UBL</th>\n",
       "      <th>LBW</th>\n",
       "      <th>LBL</th>\n",
       "      <th>SJW</th>\n",
       "      <th>SJL</th>\n",
       "      <th>MaxW</th>\n",
       "      <th>MaxL</th>\n",
       "      <th>AvgW</th>\n",
       "      <th>AvgL</th>\n",
       "    </tr>\n",
       "  </thead>\n",
       "  <tbody>\n",
       "    <tr>\n",
       "      <th>0</th>\n",
       "      <td>1</td>\n",
       "      <td>Adelaide</td>\n",
       "      <td>Australian Hardcourt Championships</td>\n",
       "      <td>2000-01-03</td>\n",
       "      <td>International</td>\n",
       "      <td>Outdoor</td>\n",
       "      <td>Hard</td>\n",
       "      <td>1st Round</td>\n",
       "      <td>3</td>\n",
       "      <td>Dosedel S.</td>\n",
       "      <td>Ljubicic I.</td>\n",
       "      <td>63</td>\n",
       "      <td>77</td>\n",
       "      <td>6.0</td>\n",
       "      <td>4.0</td>\n",
       "      <td>6</td>\n",
       "      <td>2</td>\n",
       "      <td>NaN</td>\n",
       "      <td>NaN</td>\n",
       "      <td>NaN</td>\n",
       "      <td>NaN</td>\n",
       "      <td>NaN</td>\n",
       "      <td>NaN</td>\n",
       "      <td>2.0</td>\n",
       "      <td>0</td>\n",
       "      <td>Completed</td>\n",
       "      <td>NaN</td>\n",
       "      <td>NaN</td>\n",
       "      <td>NaN</td>\n",
       "      <td>NaN</td>\n",
       "      <td>NaN</td>\n",
       "      <td>NaN</td>\n",
       "      <td>NaN</td>\n",
       "      <td>NaN</td>\n",
       "      <td>NaN</td>\n",
       "      <td>NaN</td>\n",
       "      <td>NaN</td>\n",
       "      <td>NaN</td>\n",
       "      <td>NaN</td>\n",
       "      <td>NaN</td>\n",
       "      <td>NaN</td>\n",
       "      <td>NaN</td>\n",
       "      <td>NaN</td>\n",
       "      <td>NaN</td>\n",
       "      <td>NaN</td>\n",
       "      <td>NaN</td>\n",
       "      <td>NaN</td>\n",
       "      <td>NaN</td>\n",
       "      <td>NaN</td>\n",
       "      <td>NaN</td>\n",
       "      <td>NaN</td>\n",
       "      <td>NaN</td>\n",
       "      <td>NaN</td>\n",
       "      <td>NaN</td>\n",
       "    </tr>\n",
       "    <tr>\n",
       "      <th>1</th>\n",
       "      <td>1</td>\n",
       "      <td>Adelaide</td>\n",
       "      <td>Australian Hardcourt Championships</td>\n",
       "      <td>2000-01-03</td>\n",
       "      <td>International</td>\n",
       "      <td>Outdoor</td>\n",
       "      <td>Hard</td>\n",
       "      <td>1st Round</td>\n",
       "      <td>3</td>\n",
       "      <td>Enqvist T.</td>\n",
       "      <td>Clement A.</td>\n",
       "      <td>5</td>\n",
       "      <td>56</td>\n",
       "      <td>6.0</td>\n",
       "      <td>3.0</td>\n",
       "      <td>6</td>\n",
       "      <td>3</td>\n",
       "      <td>NaN</td>\n",
       "      <td>NaN</td>\n",
       "      <td>NaN</td>\n",
       "      <td>NaN</td>\n",
       "      <td>NaN</td>\n",
       "      <td>NaN</td>\n",
       "      <td>2.0</td>\n",
       "      <td>0</td>\n",
       "      <td>Completed</td>\n",
       "      <td>NaN</td>\n",
       "      <td>NaN</td>\n",
       "      <td>NaN</td>\n",
       "      <td>NaN</td>\n",
       "      <td>NaN</td>\n",
       "      <td>NaN</td>\n",
       "      <td>NaN</td>\n",
       "      <td>NaN</td>\n",
       "      <td>NaN</td>\n",
       "      <td>NaN</td>\n",
       "      <td>NaN</td>\n",
       "      <td>NaN</td>\n",
       "      <td>NaN</td>\n",
       "      <td>NaN</td>\n",
       "      <td>NaN</td>\n",
       "      <td>NaN</td>\n",
       "      <td>NaN</td>\n",
       "      <td>NaN</td>\n",
       "      <td>NaN</td>\n",
       "      <td>NaN</td>\n",
       "      <td>NaN</td>\n",
       "      <td>NaN</td>\n",
       "      <td>NaN</td>\n",
       "      <td>NaN</td>\n",
       "      <td>NaN</td>\n",
       "      <td>NaN</td>\n",
       "      <td>NaN</td>\n",
       "      <td>NaN</td>\n",
       "    </tr>\n",
       "    <tr>\n",
       "      <th>2</th>\n",
       "      <td>1</td>\n",
       "      <td>Adelaide</td>\n",
       "      <td>Australian Hardcourt Championships</td>\n",
       "      <td>2000-01-03</td>\n",
       "      <td>International</td>\n",
       "      <td>Outdoor</td>\n",
       "      <td>Hard</td>\n",
       "      <td>1st Round</td>\n",
       "      <td>3</td>\n",
       "      <td>Escude N.</td>\n",
       "      <td>Baccanello P.</td>\n",
       "      <td>40</td>\n",
       "      <td>655</td>\n",
       "      <td>6.0</td>\n",
       "      <td>7.0</td>\n",
       "      <td>7</td>\n",
       "      <td>5</td>\n",
       "      <td>6</td>\n",
       "      <td>3</td>\n",
       "      <td>NaN</td>\n",
       "      <td>NaN</td>\n",
       "      <td>NaN</td>\n",
       "      <td>NaN</td>\n",
       "      <td>2.0</td>\n",
       "      <td>1</td>\n",
       "      <td>Completed</td>\n",
       "      <td>NaN</td>\n",
       "      <td>NaN</td>\n",
       "      <td>NaN</td>\n",
       "      <td>NaN</td>\n",
       "      <td>NaN</td>\n",
       "      <td>NaN</td>\n",
       "      <td>NaN</td>\n",
       "      <td>NaN</td>\n",
       "      <td>NaN</td>\n",
       "      <td>NaN</td>\n",
       "      <td>NaN</td>\n",
       "      <td>NaN</td>\n",
       "      <td>NaN</td>\n",
       "      <td>NaN</td>\n",
       "      <td>NaN</td>\n",
       "      <td>NaN</td>\n",
       "      <td>NaN</td>\n",
       "      <td>NaN</td>\n",
       "      <td>NaN</td>\n",
       "      <td>NaN</td>\n",
       "      <td>NaN</td>\n",
       "      <td>NaN</td>\n",
       "      <td>NaN</td>\n",
       "      <td>NaN</td>\n",
       "      <td>NaN</td>\n",
       "      <td>NaN</td>\n",
       "      <td>NaN</td>\n",
       "      <td>NaN</td>\n",
       "    </tr>\n",
       "    <tr>\n",
       "      <th>3</th>\n",
       "      <td>1</td>\n",
       "      <td>Adelaide</td>\n",
       "      <td>Australian Hardcourt Championships</td>\n",
       "      <td>2000-01-03</td>\n",
       "      <td>International</td>\n",
       "      <td>Outdoor</td>\n",
       "      <td>Hard</td>\n",
       "      <td>1st Round</td>\n",
       "      <td>3</td>\n",
       "      <td>Federer R.</td>\n",
       "      <td>Knippschild J.</td>\n",
       "      <td>65</td>\n",
       "      <td>87</td>\n",
       "      <td>6.0</td>\n",
       "      <td>1.0</td>\n",
       "      <td>6</td>\n",
       "      <td>4</td>\n",
       "      <td>NaN</td>\n",
       "      <td>NaN</td>\n",
       "      <td>NaN</td>\n",
       "      <td>NaN</td>\n",
       "      <td>NaN</td>\n",
       "      <td>NaN</td>\n",
       "      <td>2.0</td>\n",
       "      <td>0</td>\n",
       "      <td>Completed</td>\n",
       "      <td>NaN</td>\n",
       "      <td>NaN</td>\n",
       "      <td>NaN</td>\n",
       "      <td>NaN</td>\n",
       "      <td>NaN</td>\n",
       "      <td>NaN</td>\n",
       "      <td>NaN</td>\n",
       "      <td>NaN</td>\n",
       "      <td>NaN</td>\n",
       "      <td>NaN</td>\n",
       "      <td>NaN</td>\n",
       "      <td>NaN</td>\n",
       "      <td>NaN</td>\n",
       "      <td>NaN</td>\n",
       "      <td>NaN</td>\n",
       "      <td>NaN</td>\n",
       "      <td>NaN</td>\n",
       "      <td>NaN</td>\n",
       "      <td>NaN</td>\n",
       "      <td>NaN</td>\n",
       "      <td>NaN</td>\n",
       "      <td>NaN</td>\n",
       "      <td>NaN</td>\n",
       "      <td>NaN</td>\n",
       "      <td>NaN</td>\n",
       "      <td>NaN</td>\n",
       "      <td>NaN</td>\n",
       "      <td>NaN</td>\n",
       "    </tr>\n",
       "    <tr>\n",
       "      <th>4</th>\n",
       "      <td>1</td>\n",
       "      <td>Adelaide</td>\n",
       "      <td>Australian Hardcourt Championships</td>\n",
       "      <td>2000-01-03</td>\n",
       "      <td>International</td>\n",
       "      <td>Outdoor</td>\n",
       "      <td>Hard</td>\n",
       "      <td>1st Round</td>\n",
       "      <td>3</td>\n",
       "      <td>Fromberg R.</td>\n",
       "      <td>Woodbridge T.</td>\n",
       "      <td>81</td>\n",
       "      <td>198</td>\n",
       "      <td>7.0</td>\n",
       "      <td>6.0</td>\n",
       "      <td>5</td>\n",
       "      <td>7</td>\n",
       "      <td>6</td>\n",
       "      <td>4</td>\n",
       "      <td>NaN</td>\n",
       "      <td>NaN</td>\n",
       "      <td>NaN</td>\n",
       "      <td>NaN</td>\n",
       "      <td>2.0</td>\n",
       "      <td>1</td>\n",
       "      <td>Completed</td>\n",
       "      <td>NaN</td>\n",
       "      <td>NaN</td>\n",
       "      <td>NaN</td>\n",
       "      <td>NaN</td>\n",
       "      <td>NaN</td>\n",
       "      <td>NaN</td>\n",
       "      <td>NaN</td>\n",
       "      <td>NaN</td>\n",
       "      <td>NaN</td>\n",
       "      <td>NaN</td>\n",
       "      <td>NaN</td>\n",
       "      <td>NaN</td>\n",
       "      <td>NaN</td>\n",
       "      <td>NaN</td>\n",
       "      <td>NaN</td>\n",
       "      <td>NaN</td>\n",
       "      <td>NaN</td>\n",
       "      <td>NaN</td>\n",
       "      <td>NaN</td>\n",
       "      <td>NaN</td>\n",
       "      <td>NaN</td>\n",
       "      <td>NaN</td>\n",
       "      <td>NaN</td>\n",
       "      <td>NaN</td>\n",
       "      <td>NaN</td>\n",
       "      <td>NaN</td>\n",
       "      <td>NaN</td>\n",
       "      <td>NaN</td>\n",
       "    </tr>\n",
       "  </tbody>\n",
       "</table>\n",
       "</div>"
      ],
      "text/plain": [
       "   ATP  Location                          Tournament  ... MaxL AvgW AvgL\n",
       "0    1  Adelaide  Australian Hardcourt Championships  ...  NaN  NaN  NaN\n",
       "1    1  Adelaide  Australian Hardcourt Championships  ...  NaN  NaN  NaN\n",
       "2    1  Adelaide  Australian Hardcourt Championships  ...  NaN  NaN  NaN\n",
       "3    1  Adelaide  Australian Hardcourt Championships  ...  NaN  NaN  NaN\n",
       "4    1  Adelaide  Australian Hardcourt Championships  ...  NaN  NaN  NaN\n",
       "\n",
       "[5 rows x 54 columns]"
      ]
     },
     "execution_count": 4,
     "metadata": {
      "tags": []
     },
     "output_type": "execute_result"
    }
   ],
   "source": [
    "df_atp.head()"
   ]
  },
  {
   "cell_type": "code",
   "execution_count": 5,
   "metadata": {
    "colab": {
     "base_uri": "https://localhost:8080/"
    },
    "id": "OahOiP3HfdVF",
    "outputId": "2d7d598d-eacc-4b60-d4a8-b56fcf248fe2"
   },
   "outputs": [
    {
     "name": "stdout",
     "output_type": "stream",
     "text": [
      "<class 'pandas.core.frame.DataFrame'>\n",
      "RangeIndex: 52298 entries, 0 to 52297\n",
      "Data columns (total 54 columns):\n",
      " #   Column      Non-Null Count  Dtype         \n",
      "---  ------      --------------  -----         \n",
      " 0   ATP         52298 non-null  int64         \n",
      " 1   Location    52298 non-null  object        \n",
      " 2   Tournament  52298 non-null  object        \n",
      " 3   Date        52298 non-null  datetime64[ns]\n",
      " 4   Series      52298 non-null  object        \n",
      " 5   Court       52298 non-null  object        \n",
      " 6   Surface     52298 non-null  object        \n",
      " 7   Round       52298 non-null  object        \n",
      " 8   Best of     52298 non-null  int64         \n",
      " 9   Winner      52298 non-null  object        \n",
      " 10  Loser       52298 non-null  object        \n",
      " 11  WRank       52283 non-null  object        \n",
      " 12  LRank       52220 non-null  object        \n",
      " 13  W1          52035 non-null  float64       \n",
      " 14  L1          52037 non-null  float64       \n",
      " 15  W2          51526 non-null  object        \n",
      " 16  L2          51527 non-null  object        \n",
      " 17  W3          24169 non-null  object        \n",
      " 18  L3          24168 non-null  object        \n",
      " 19  W4          4731 non-null   float64       \n",
      " 20  L4          4731 non-null   float64       \n",
      " 21  W5          1791 non-null   float64       \n",
      " 22  L5          1791 non-null   float64       \n",
      " 23  Wsets       52074 non-null  float64       \n",
      " 24  Lsets       52073 non-null  object        \n",
      " 25  Comment     52298 non-null  object        \n",
      " 26  CBW         17506 non-null  float64       \n",
      " 27  CBL         17506 non-null  float64       \n",
      " 28  GBW         5055 non-null   float64       \n",
      " 29  GBL         5055 non-null   float64       \n",
      " 30  IWW         13358 non-null  float64       \n",
      " 31  IWL         13358 non-null  float64       \n",
      " 32  SBW         5424 non-null   float64       \n",
      " 33  SBL         5424 non-null   float64       \n",
      " 34  B365W       43643 non-null  float64       \n",
      " 35  B365L       43666 non-null  float64       \n",
      " 36  B&WW        1097 non-null   float64       \n",
      " 37  B&WL        1097 non-null   float64       \n",
      " 38  EXW         39411 non-null  object        \n",
      " 39  EXL         39416 non-null  float64       \n",
      " 40  PSW         37339 non-null  float64       \n",
      " 41  PSL         37339 non-null  float64       \n",
      " 42  WPts        36094 non-null  float64       \n",
      " 43  LPts        36035 non-null  float64       \n",
      " 44  UBW         10671 non-null  float64       \n",
      " 45  UBL         10671 non-null  float64       \n",
      " 46  LBW         28131 non-null  float64       \n",
      " 47  LBL         28142 non-null  float64       \n",
      " 48  SJW         15572 non-null  float64       \n",
      " 49  SJL         15579 non-null  float64       \n",
      " 50  MaxW        22745 non-null  float64       \n",
      " 51  MaxL        22745 non-null  float64       \n",
      " 52  AvgW        22745 non-null  float64       \n",
      " 53  AvgL        22745 non-null  float64       \n",
      "dtypes: datetime64[ns](1), float64(34), int64(2), object(17)\n",
      "memory usage: 21.5+ MB\n"
     ]
    }
   ],
   "source": [
    "df_atp.info()"
   ]
  },
  {
   "cell_type": "markdown",
   "metadata": {
    "id": "Zs0i5rnMjWXU"
   },
   "source": [
    "## Requetes diverses :"
   ]
  },
  {
   "cell_type": "markdown",
   "metadata": {
    "id": "UjbwU9NXf5ri"
   },
   "source": [
    "### **Req 1 : les trois joueurs ATP avec le plus de victoires**"
   ]
  },
  {
   "cell_type": "code",
   "execution_count": 6,
   "metadata": {
    "colab": {
     "base_uri": "https://localhost:8080/"
    },
    "id": "bEwxvM44jWXW",
    "outputId": "c338b6d3-f39b-44b1-86ff-d0ec18a70e00"
   },
   "outputs": [
    {
     "data": {
      "text/plain": [
       "Winner\n",
       "Federer R.     1121\n",
       "Nadal R.        891\n",
       "Djokovic N.     802\n",
       "dtype: int64"
      ]
     },
     "execution_count": 6,
     "metadata": {
      "tags": []
     },
     "output_type": "execute_result"
    }
   ],
   "source": [
    "df_atp.groupby(\"Winner\").size().sort_values(ascending=False).head(3)"
   ]
  },
  {
   "cell_type": "markdown",
   "metadata": {
    "id": "Ew7pA_YQgzui"
   },
   "source": [
    "### **Req 2 : Le nombre total  d'ensembles reportés par le joueur \"Federer R\"**"
   ]
  },
  {
   "cell_type": "code",
   "execution_count": 7,
   "metadata": {
    "colab": {
     "base_uri": "https://localhost:8080/"
    },
    "id": "A8OG8cQMhZ3K",
    "outputId": "b2a11e1d-8d87-4be1-8ac4-fd69b5568b10"
   },
   "outputs": [
    {
     "name": "stdout",
     "output_type": "stream",
     "text": [
      "Valeurs Uniques dans Lsets :  [0 1 2 '`1' nan]\n",
      "Valeurs Uniques dans Wsets :  [ 2.  3.  1.  0. nan]\n"
     ]
    }
   ],
   "source": [
    "# Matchs de federer ---> on s'intéresses au Wsets et Lsets\n",
    "df_federer_winner = df_atp[df_atp[\"Winner\"]==\"Federer R.\"]\n",
    "df_federer_loser =  df_atp[df_atp[\"Loser\"]==\"Federer R.\"]\n",
    "\n",
    "# Verification des valeurs de Wsets(float64) et Lsets(object ! risque de valeurs non conformes : NaN,string .. etc )\n",
    "print(\"Valeurs Uniques dans Lsets : \",df_federer_loser[\"Lsets\"].unique()) \n",
    "print(\"Valeurs Uniques dans Wsets : \",df_federer_winner['Wsets'].unique())\n"
   ]
  },
  {
   "cell_type": "code",
   "execution_count": 8,
   "metadata": {
    "colab": {
     "base_uri": "https://localhost:8080/"
    },
    "id": "pX34Tfvf8b0i",
    "outputId": "da7fa2bf-ef38-4ea9-cf43-b50d1500208e"
   },
   "outputs": [
    {
     "name": "stdout",
     "output_type": "stream",
     "text": [
      "\n",
      "Nombre total des ensembles gagnés par Federer R. est =  2696\n"
     ]
    }
   ],
   "source": [
    "# Sum skiping null/nan \"`\" and string values in Lsets\n",
    "skiped= df_federer_loser[\"Lsets\"].replace('`1',1)\n",
    "sets_federer = int(df_federer_winner[\"Wsets\"].sum(skipna=True)) + int(skiped.sum(skipna=True)) \n",
    "print(\"\\nNombre total des ensembles gagnés par Federer R. est = \",sets_federer)\n"
   ]
  },
  {
   "cell_type": "markdown",
   "metadata": {
    "id": "K9E1C2OlpgP7"
   },
   "source": [
    "### **Req3 : Le nombre d'ensembles reportées par le joueur \"Federer R\" entre 2016 et 2017**"
   ]
  },
  {
   "cell_type": "code",
   "execution_count": 9,
   "metadata": {
    "colab": {
     "base_uri": "https://localhost:8080/"
    },
    "id": "vHXSii6xpqfU",
    "outputId": "287c3ad0-b88a-464d-bc3d-7e95d0577263"
   },
   "outputs": [
    {
     "name": "stderr",
     "output_type": "stream",
     "text": [
      "INFO:numexpr.utils:NumExpr defaulting to 2 threads.\n"
     ]
    },
    {
     "name": "stdout",
     "output_type": "stream",
     "text": [
      "Le nombre d'ensembles reportés par Federer R pendant 2016/2017 est :  182\n"
     ]
    }
   ],
   "source": [
    "df_federer_winner_16_17 = df_federer_winner[(df_federer_winner[\"Date\"].dt.year == 2016) |\n",
    "                                            (df_federer_winner[\"Date\"].dt.year == 2017)]\n",
    "\n",
    "df_federer_loser_16_17 = df_federer_loser[(df_federer_loser[\"Date\"].dt.year == 2016) |\n",
    "                                          (df_federer_loser[\"Date\"].dt.year == 2017)]\n",
    "\n",
    "\n",
    "skiped_16_17= df_federer_loser_16_17[\"Lsets\"].replace('`1',1)\n",
    "\n",
    "sets_16_17= int(df_federer_winner_16_17[\"Wsets\"]\n",
    "                .sum(skipna=True)) + int(skiped_16_17.sum(skipna=True))\n",
    "\n",
    "\n",
    "\n",
    "print(\"Le nombre d'ensembles reportés par Federer R pendant 2016/2017 est : \",sets_16_17)                "
   ]
  },
  {
   "cell_type": "markdown",
   "metadata": {
    "id": "vNAdG21-vqcN"
   },
   "source": [
    "### **Req 4 : Pour chaque macth le pourcentage des victoires du vainqueur pendant les matchs précédents**"
   ]
  },
  {
   "cell_type": "markdown",
   "metadata": {
    "id": "Nof0YAhKBM39"
   },
   "source": [
    "Cette requète est couteuse en temps de calcul, on propose donc de paralleliser le traitment en utilsant **pandaparallel**"
   ]
  },
  {
   "cell_type": "code",
   "execution_count": 10,
   "metadata": {
    "colab": {
     "base_uri": "https://localhost:8080/"
    },
    "id": "WrlQiRX2B6FA",
    "outputId": "71d693a4-fa6a-4f42-99d7-13380e9c4198"
   },
   "outputs": [
    {
     "name": "stdout",
     "output_type": "stream",
     "text": [
      "Collecting pandarallel\n",
      "  Downloading https://files.pythonhosted.org/packages/62/30/3c2c89597bb01b75779432d469562a235c47538cf96152ed01d695ad41ce/pandarallel-1.5.1.tar.gz\n",
      "Requirement already satisfied: dill in /usr/local/lib/python3.6/dist-packages (from pandarallel) (0.3.3)\n",
      "Building wheels for collected packages: pandarallel\n",
      "  Building wheel for pandarallel (setup.py) ... \u001b[?25l\u001b[?25hdone\n",
      "  Created wheel for pandarallel: filename=pandarallel-1.5.1-cp36-none-any.whl size=17127 sha256=b221037239af2ddfee332a7642c5c24989711f8af2c801508d68a570540a5c12\n",
      "  Stored in directory: /root/.cache/pip/wheels/6f/c8/e5/d43fa63105ce1dd22f4df51bc2edfefd54d92ce64f25326314\n",
      "Successfully built pandarallel\n",
      "Installing collected packages: pandarallel\n",
      "Successfully installed pandarallel-1.5.1\n"
     ]
    }
   ],
   "source": [
    "!pip install pandarallel "
   ]
  },
  {
   "cell_type": "code",
   "execution_count": 11,
   "metadata": {
    "colab": {
     "base_uri": "https://localhost:8080/"
    },
    "id": "goZrGQGzF_qc",
    "outputId": "78d41567-7075-4092-a2e3-d185f019ce77"
   },
   "outputs": [
    {
     "name": "stdout",
     "output_type": "stream",
     "text": [
      "INFO: Pandarallel will run on 5 workers.\n",
      "INFO: Pandarallel will use Memory file system to transfer data between the main process and workers.\n"
     ]
    }
   ],
   "source": [
    "from pandarallel import pandarallel\n",
    "# Initialization\n",
    "pandarallel.initialize(nb_workers=5)"
   ]
  },
  {
   "cell_type": "code",
   "execution_count": 12,
   "metadata": {
    "id": "FGDrsngVGL0q"
   },
   "outputs": [],
   "source": [
    "def prior_wins_percent(df_atp, player, date, minimum_played_games = 1):\n",
    "\n",
    "  df_previous  = df_atp[df_atp[\"Date\"] < date]\n",
    "  previous_wins = df_previous[df_previous[\"Winner\"] == player].shape[0]\n",
    "  previous_losses = df_previous[df_previous[\"Loser\"] == player].shape[0]\n",
    "\n",
    "  if  minimum_played_games > (previous_wins + previous_losses): # un minimum de match est requis pour éviter des pourcentage elevé (en début de carriere professionnel par exemple)\n",
    "      return 0\n",
    "  return previous_wins / (previous_wins + previous_losses)"
   ]
  },
  {
   "cell_type": "code",
   "execution_count": 13,
   "metadata": {
    "id": "UJUI0WL8Gh0j"
   },
   "outputs": [],
   "source": [
    "df_atp[\"prior_wins_winner\"]=df_atp.parallel_apply(\n",
    "    lambda row: prior_wins_percent(df_atp, row[\"Winner\"], row[\"Date\"] ),\n",
    "    axis=1\n",
    ")\n"
   ]
  },
  {
   "cell_type": "code",
   "execution_count": 14,
   "metadata": {
    "id": "kz-l7xVjX4MV"
   },
   "outputs": [],
   "source": [
    "df_atp[\"prior_wins_loser\"]=df_atp.parallel_apply(\n",
    "    lambda row: prior_wins_percent(df_atp, row[\"Loser\"], row[\"Date\"] ),\n",
    "    axis=1\n",
    ")\n"
   ]
  },
  {
   "cell_type": "code",
   "execution_count": null,
   "metadata": {
    "id": "8Y6sDt4ANdnK"
   },
   "outputs": [],
   "source": [
    "df_atp.to_csv(\"atp_prior_wins_percentage.csv\")\n",
    "#df_atp=pd.read_csv(\"atp_prior_wins_percentage.csv\")\n",
    "#df_atp.head()"
   ]
  },
  {
   "cell_type": "markdown",
   "metadata": {
    "id": "hDfOR1kcRn35"
   },
   "source": [
    "## Préparation des données :"
   ]
  },
  {
   "cell_type": "markdown",
   "metadata": {
    "id": "FZuGMLjlV2qQ"
   },
   "source": [
    "### **Annotation : ajout des labels**"
   ]
  },
  {
   "cell_type": "markdown",
   "metadata": {
    "id": "gQeqvTgxWInY"
   },
   "source": [
    "\n",
    "\n",
    "*   Si nous définissons le résultat d'un match ATP comme le «nom du vinqueur», le problème serait une tâche **multi-classification** avec une sortie prenant des étiquettes appartenant aux noms de tous les joueurs depuis 2000. Cette approche **«naïve»** n'est pas réaliste puisque pour chaque match, nous avons deux joueurs et le vainqueur est parmi eux. \n",
    "\n",
    "\n",
    "\n",
    "*   Une façon d'explorer cela est de considérer  les 2 joueurs participant à un match : \"joueur 1\" et \"joueur 2\" auxquelles nous attribuons le vainqueur et le perdant du match, la variable cible = **\"target\"** appartiendrait au couple (0,1) et donc le problème peut être traité comme un problème de **classification binaire.**\n",
    "\n",
    "\n",
    "\n",
    "Afin d'éviter le **biais** sur **les labels**, je propose une logique selon laquelle nous appellerons le joueur 1 et le joueur 2 selon l'ordre léxéographique (ordre alphanumérique )(Relation d'ordre total ROT) de leurs noms et remplirons la variable de sortie (label) en conséquence.\n",
    "\n",
    "Joueur1 est celui dont le nom est plus petit.\n",
    "\n",
    "\n",
    "*   Si joueur 1 gagne alors label = 1\n",
    "*   Si joueur 2 gagne alors label = 0\n",
    "\n",
    "\n",
    "    \n"
   ]
  },
  {
   "cell_type": "code",
   "execution_count": 16,
   "metadata": {
    "colab": {
     "base_uri": "https://localhost:8080/",
     "height": 206
    },
    "id": "VtTi_ceyRszb",
    "outputId": "eca985ac-55f2-4ac6-a508-1f6395594487"
   },
   "outputs": [
    {
     "data": {
      "text/html": [
       "<div>\n",
       "<style scoped>\n",
       "    .dataframe tbody tr th:only-of-type {\n",
       "        vertical-align: middle;\n",
       "    }\n",
       "\n",
       "    .dataframe tbody tr th {\n",
       "        vertical-align: top;\n",
       "    }\n",
       "\n",
       "    .dataframe thead th {\n",
       "        text-align: right;\n",
       "    }\n",
       "</style>\n",
       "<table border=\"1\" class=\"dataframe\">\n",
       "  <thead>\n",
       "    <tr style=\"text-align: right;\">\n",
       "      <th></th>\n",
       "      <th>Winner</th>\n",
       "      <th>Loser</th>\n",
       "      <th>Labs</th>\n",
       "    </tr>\n",
       "  </thead>\n",
       "  <tbody>\n",
       "    <tr>\n",
       "      <th>0</th>\n",
       "      <td>Dosedel S.</td>\n",
       "      <td>Ljubicic I.</td>\n",
       "      <td>1</td>\n",
       "    </tr>\n",
       "    <tr>\n",
       "      <th>1</th>\n",
       "      <td>Enqvist T.</td>\n",
       "      <td>Clement A.</td>\n",
       "      <td>0</td>\n",
       "    </tr>\n",
       "    <tr>\n",
       "      <th>2</th>\n",
       "      <td>Escude N.</td>\n",
       "      <td>Baccanello P.</td>\n",
       "      <td>0</td>\n",
       "    </tr>\n",
       "    <tr>\n",
       "      <th>3</th>\n",
       "      <td>Federer R.</td>\n",
       "      <td>Knippschild J.</td>\n",
       "      <td>1</td>\n",
       "    </tr>\n",
       "    <tr>\n",
       "      <th>4</th>\n",
       "      <td>Fromberg R.</td>\n",
       "      <td>Woodbridge T.</td>\n",
       "      <td>1</td>\n",
       "    </tr>\n",
       "  </tbody>\n",
       "</table>\n",
       "</div>"
      ],
      "text/plain": [
       "        Winner           Loser  Labs\n",
       "0   Dosedel S.     Ljubicic I.     1\n",
       "1   Enqvist T.      Clement A.     0\n",
       "2    Escude N.   Baccanello P.     0\n",
       "3   Federer R.  Knippschild J.     1\n",
       "4  Fromberg R.   Woodbridge T.     1"
      ]
     },
     "execution_count": 16,
     "metadata": {
      "tags": []
     },
     "output_type": "execute_result"
    }
   ],
   "source": [
    "df_atp[\"Labs\"] = df_atp.apply(lambda row: 1 if row[\"Winner\"] < row[\"Loser\"] else 0, axis=1)\n",
    "df_atp[[\"Winner\", \"Loser\", \"Labs\"]].head(5)"
   ]
  },
  {
   "cell_type": "code",
   "execution_count": 17,
   "metadata": {
    "colab": {
     "base_uri": "https://localhost:8080/"
    },
    "id": "gPFCoIbMZo44",
    "outputId": "5caecbaf-f6c7-49e3-925e-f6e31b6c1f8e"
   },
   "outputs": [
    {
     "name": "stdout",
     "output_type": "stream",
     "text": [
      "Effectif de la classe 1 : 26602\n",
      "Effectif de la classe 0 : 25696\n"
     ]
    }
   ],
   "source": [
    "print(\"Effectif de la classe 1 : {}\".format(df_atp[df_atp[\"Labs\"] == 1].shape[0]))\n",
    "print(\"Effectif de la classe 0 : {}\".format(df_atp[df_atp[\"Labs\"] == 0].shape[0]))"
   ]
  },
  {
   "cell_type": "markdown",
   "metadata": {
    "id": "MN8PRq5gaw22"
   },
   "source": [
    "### **Gestion des entrées défectueuses :**"
   ]
  },
  {
   "cell_type": "code",
   "execution_count": 18,
   "metadata": {
    "colab": {
     "base_uri": "https://localhost:8080/",
     "height": 175
    },
    "id": "K0umyXsAZ7pA",
    "outputId": "bde2087a-c279-41c6-d17b-cdfaa0e2978e"
   },
   "outputs": [
    {
     "data": {
      "text/html": [
       "<div>\n",
       "<style scoped>\n",
       "    .dataframe tbody tr th:only-of-type {\n",
       "        vertical-align: middle;\n",
       "    }\n",
       "\n",
       "    .dataframe tbody tr th {\n",
       "        vertical-align: top;\n",
       "    }\n",
       "\n",
       "    .dataframe thead th {\n",
       "        text-align: right;\n",
       "    }\n",
       "</style>\n",
       "<table border=\"1\" class=\"dataframe\">\n",
       "  <thead>\n",
       "    <tr style=\"text-align: right;\">\n",
       "      <th></th>\n",
       "      <th>Location</th>\n",
       "      <th>Tournament</th>\n",
       "      <th>Series</th>\n",
       "      <th>Court</th>\n",
       "      <th>Surface</th>\n",
       "      <th>Round</th>\n",
       "      <th>Winner</th>\n",
       "      <th>Loser</th>\n",
       "      <th>WRank</th>\n",
       "      <th>LRank</th>\n",
       "      <th>W2</th>\n",
       "      <th>L2</th>\n",
       "      <th>W3</th>\n",
       "      <th>L3</th>\n",
       "      <th>Lsets</th>\n",
       "      <th>Comment</th>\n",
       "      <th>EXW</th>\n",
       "    </tr>\n",
       "  </thead>\n",
       "  <tbody>\n",
       "    <tr>\n",
       "      <th>count</th>\n",
       "      <td>52298</td>\n",
       "      <td>52298</td>\n",
       "      <td>52298</td>\n",
       "      <td>52298</td>\n",
       "      <td>52298</td>\n",
       "      <td>52298</td>\n",
       "      <td>52298</td>\n",
       "      <td>52298</td>\n",
       "      <td>52283</td>\n",
       "      <td>52220</td>\n",
       "      <td>51526.0</td>\n",
       "      <td>51527.0</td>\n",
       "      <td>24169.0</td>\n",
       "      <td>24168.0</td>\n",
       "      <td>52073</td>\n",
       "      <td>52298</td>\n",
       "      <td>39411.00</td>\n",
       "    </tr>\n",
       "    <tr>\n",
       "      <th>unique</th>\n",
       "      <td>115</td>\n",
       "      <td>214</td>\n",
       "      <td>8</td>\n",
       "      <td>2</td>\n",
       "      <td>4</td>\n",
       "      <td>8</td>\n",
       "      <td>948</td>\n",
       "      <td>1483</td>\n",
       "      <td>604</td>\n",
       "      <td>943</td>\n",
       "      <td>9.0</td>\n",
       "      <td>9.0</td>\n",
       "      <td>9.0</td>\n",
       "      <td>9.0</td>\n",
       "      <td>4</td>\n",
       "      <td>5</td>\n",
       "      <td>356.00</td>\n",
       "    </tr>\n",
       "    <tr>\n",
       "      <th>top</th>\n",
       "      <td>Paris</td>\n",
       "      <td>Australian Open</td>\n",
       "      <td>International</td>\n",
       "      <td>Outdoor</td>\n",
       "      <td>Hard</td>\n",
       "      <td>1st Round</td>\n",
       "      <td>Federer R.</td>\n",
       "      <td>Lopez F.</td>\n",
       "      <td>1</td>\n",
       "      <td>46</td>\n",
       "      <td>6.0</td>\n",
       "      <td>6.0</td>\n",
       "      <td>6.0</td>\n",
       "      <td>4.0</td>\n",
       "      <td>0</td>\n",
       "      <td>Completed</td>\n",
       "      <td>1.35</td>\n",
       "    </tr>\n",
       "    <tr>\n",
       "      <th>freq</th>\n",
       "      <td>3306</td>\n",
       "      <td>2413</td>\n",
       "      <td>12204</td>\n",
       "      <td>42941</td>\n",
       "      <td>27716</td>\n",
       "      <td>24212</td>\n",
       "      <td>1121</td>\n",
       "      <td>415</td>\n",
       "      <td>1172</td>\n",
       "      <td>464</td>\n",
       "      <td>33924.0</td>\n",
       "      <td>12516.0</td>\n",
       "      <td>17187.0</td>\n",
       "      <td>5412.0</td>\n",
       "      <td>32647</td>\n",
       "      <td>50358</td>\n",
       "      <td>1321.00</td>\n",
       "    </tr>\n",
       "  </tbody>\n",
       "</table>\n",
       "</div>"
      ],
      "text/plain": [
       "       Location       Tournament         Series  ...  Lsets    Comment       EXW\n",
       "count     52298            52298          52298  ...  52073      52298  39411.00\n",
       "unique      115              214              8  ...      4          5    356.00\n",
       "top       Paris  Australian Open  International  ...      0  Completed      1.35\n",
       "freq       3306             2413          12204  ...  32647      50358   1321.00\n",
       "\n",
       "[4 rows x 17 columns]"
      ]
     },
     "execution_count": 18,
     "metadata": {
      "tags": []
     },
     "output_type": "execute_result"
    }
   ],
   "source": [
    "df_atp.describe(include=['O'])"
   ]
  },
  {
   "cell_type": "markdown",
   "metadata": {
    "id": "oXcRYTgScanj"
   },
   "source": [
    "Certaines colonnes ont été converties à tort en Object au lieu de float64 ou int64.\n",
    "\n",
    "Commençons par vérifier le problème avec les colonnes avec quelques uniques."
   ]
  },
  {
   "cell_type": "code",
   "execution_count": 19,
   "metadata": {
    "colab": {
     "base_uri": "https://localhost:8080/"
    },
    "id": "lSSIlVubcI97",
    "outputId": "b66a0494-07dc-4d06-eabf-a9ce30e581a7"
   },
   "outputs": [
    {
     "data": {
      "text/plain": [
       "array([2.0, 3.0, 5.0, 4.0, 7.0, 6.0, 1.0, 0.0, nan, ' '], dtype=object)"
      ]
     },
     "execution_count": 19,
     "metadata": {
      "tags": []
     },
     "output_type": "execute_result"
    }
   ],
   "source": [
    "df_atp['L2'].unique()"
   ]
  },
  {
   "cell_type": "markdown",
   "metadata": {
    "id": "ki-U7J7ncxVj"
   },
   "source": [
    "Certaines entrées de la colonne L2 ont la valeur \" \", qui ne peut pas être convertie en flot. Ainsi, la colonne entière est convertie en object.\n",
    "\n",
    "Corrigeons cela en changeant ces entrées '' en NaN:\n"
   ]
  },
  {
   "cell_type": "code",
   "execution_count": 20,
   "metadata": {
    "colab": {
     "base_uri": "https://localhost:8080/"
    },
    "id": "MqHoPK71cveA",
    "outputId": "67660eb0-14c2-46fe-ac85-61c867eb8ca2"
   },
   "outputs": [
    {
     "data": {
      "text/plain": [
       "array([2.0, 3.0, 5.0, 4.0, 7.0, 6.0, 1.0, 0.0, nan], dtype=object)"
      ]
     },
     "execution_count": 20,
     "metadata": {
      "tags": []
     },
     "output_type": "execute_result"
    }
   ],
   "source": [
    "df_atp.loc[df_atp.L2 == ' ', ['L2']] = np.nan\n",
    "df_atp.L2.unique()"
   ]
  },
  {
   "cell_type": "markdown",
   "metadata": {
    "id": "iOVUMXfSdnP3"
   },
   "source": [
    "Le meme probleme se répète avec les colonnes L3, W2 et W3, on le fixe de la meme manière. Et comme remarqué précedement Lsets a un problème aussi on trouve '`1'à la place de 1"
   ]
  },
  {
   "cell_type": "code",
   "execution_count": 21,
   "metadata": {
    "colab": {
     "base_uri": "https://localhost:8080/"
    },
    "id": "bG78OEv9dBv9",
    "outputId": "c9831031-5be2-4a67-d3f5-78752552ff86"
   },
   "outputs": [
    {
     "name": "stdout",
     "output_type": "stream",
     "text": [
      "L3 uniques avant:  [nan 3.0 4.0 1.0 2.0 6.0 0.0 5.0 7.0 ' ']\n",
      "W2 uniques avant:  [6.0 7.0 5.0 2.0 4.0 nan 0.0 3.0 1.0 ' ']\n",
      "W3 uniques avant:  [nan 6.0 7.0 3.0 1.0 4.0 2.0 5.0 0.0 ' ']\n",
      "Lsets uniques avant : [0 1 2 nan '`1']\n",
      "********************************************************************************\n",
      "L3 uniques after fixing:  [nan 3.0 4.0 1.0 2.0 6.0 0.0 5.0 7.0]\n",
      "W2 uniques after fixing:  [6.0 7.0 5.0 2.0 4.0 nan 0.0 3.0 1.0]\n",
      "W3 uniques after fixing:  [nan 6.0 7.0 3.0 1.0 4.0 2.0 5.0 0.0]\n",
      "Lsets uniques après: [0 1 2 nan]\n"
     ]
    }
   ],
   "source": [
    "print('L3 uniques avant: ', df_atp.L3.unique())\n",
    "print('W2 uniques avant: ', df_atp.W2.unique())\n",
    "print('W3 uniques avant: ', df_atp.W3.unique())\n",
    "print(\"Lsets uniques avant :\", df_atp.Lsets.unique())\n",
    "\n",
    "df_atp.loc[df_atp.L3 == ' ', ['L3']] = np.nan\n",
    "df_atp.loc[df_atp.W2 == ' ', ['W2']] = np.nan\n",
    "df_atp.loc[df_atp.W3 == ' ', ['W3']] = np.nan\n",
    "df_atp.loc[df_atp.Lsets == '`1', ['Lsets']] = 1 \n",
    "\n",
    "print(\"*\" * 80)\n",
    "\n",
    "print('L3 uniques after fixing: ', df_atp.L3.unique())\n",
    "print('W2 uniques after fixing: ', df_atp.W2.unique())\n",
    "print('W3 uniques after fixing: ', df_atp.W3.unique())\n",
    "print(\"Lsets uniques après:\", df_atp.Lsets.unique())"
   ]
  },
  {
   "cell_type": "markdown",
   "metadata": {
    "id": "lr3S_FEwf6qN"
   },
   "source": [
    "Maintenant, la colonne LRank (WRank éventuellment). C'est plus compliqué car il y a 943 valeurs uniques, donc je ne peux pas simplement les imprimer et rechercher la faute de frappe.\n",
    "\n",
    "Donc, écrivons une fonction pour vérifier si une valeur ne peut pas être convertie en float. Appliquez cette fonction à chaque entrée de la colonne LRank/WRank, on utilise les résultats pour filtrer dans la colonne et obtenir les entrées défectueuses."
   ]
  },
  {
   "cell_type": "code",
   "execution_count": 22,
   "metadata": {
    "colab": {
     "base_uri": "https://localhost:8080/"
    },
    "id": "K6o8BOJHe0rG",
    "outputId": "2551220d-7145-43e3-8015-6a223b923f86"
   },
   "outputs": [
    {
     "data": {
      "text/plain": [
       "63      NR\n",
       "377     NR\n",
       "560     NR\n",
       "611     NR\n",
       "613     NR\n",
       "618     NR\n",
       "774     NR\n",
       "1039    NR\n",
       "1694    NR\n",
       "1849    NR\n",
       "3540    NR\n",
       "3551    NR\n",
       "4457    NR\n",
       "5435    NR\n",
       "5487    NR\n",
       "5491    NR\n",
       "5494    NR\n",
       "5498    NR\n",
       "5528    NR\n",
       "5998    NR\n",
       "6307    NR\n",
       "6777    NR\n",
       "7296    NR\n",
       "7414    NR\n",
       "7418    NR\n",
       "8111    NR\n",
       "9596    NR\n",
       "Name: LRank, dtype: object"
      ]
     },
     "execution_count": 22,
     "metadata": {
      "tags": []
     },
     "output_type": "execute_result"
    }
   ],
   "source": [
    "def isnotfloat(value):\n",
    "  try:\n",
    "    float(value)\n",
    "    return False\n",
    "  except ValueError:\n",
    "    return True\n",
    "\n",
    "df_atp.LRank[list(map(lambda x: isnotfloat(x), df_atp.LRank))]"
   ]
  },
  {
   "cell_type": "code",
   "execution_count": 23,
   "metadata": {
    "colab": {
     "base_uri": "https://localhost:8080/"
    },
    "id": "zuVnRidz4KSz",
    "outputId": "87203d60-7986-4310-a50a-14ac9a91478e"
   },
   "outputs": [
    {
     "data": {
      "text/plain": [
       "744    NR\n",
       "Name: WRank, dtype: object"
      ]
     },
     "execution_count": 23,
     "metadata": {
      "tags": []
     },
     "output_type": "execute_result"
    }
   ],
   "source": [
    "df_atp.WRank[list(map(lambda x: isnotfloat(x), df_atp.WRank))]"
   ]
  },
  {
   "cell_type": "code",
   "execution_count": 24,
   "metadata": {
    "colab": {
     "base_uri": "https://localhost:8080/"
    },
    "id": "BAWEoHNmPwNQ",
    "outputId": "5f32f83b-c5b6-4d62-cf8d-cddd7ecf3f3f"
   },
   "outputs": [
    {
     "data": {
      "text/plain": [
       "38294    2.,3\n",
       "Name: EXW, dtype: object"
      ]
     },
     "execution_count": 24,
     "metadata": {
      "tags": []
     },
     "output_type": "execute_result"
    }
   ],
   "source": [
    "df_atp.EXW[list(map(lambda x: isnotfloat(x), df_atp.EXW))]"
   ]
  },
  {
   "cell_type": "markdown",
   "metadata": {
    "id": "rbvoQKmNg2V5"
   },
   "source": [
    "Maintenant que les entrées défectueuses sont connues, faisons exactement la même chose qu'avec les autres colonnes."
   ]
  },
  {
   "cell_type": "code",
   "execution_count": 25,
   "metadata": {
    "id": "ZvXFuYp9gjyl"
   },
   "outputs": [],
   "source": [
    "df_atp.loc[df_atp.LRank == 'NR', ['LRank']] = np.nan\n",
    "df_atp.loc[df_atp.WRank == 'NR', ['WRank']] = np.nan\n",
    "df_atp.loc[df_atp.EXW == '2.,3', ['EXW']] = np.nan"
   ]
  },
  {
   "cell_type": "markdown",
   "metadata": {
    "id": "MPIQfTNNhV7j"
   },
   "source": [
    "Maintenant que toutes les entrées défectueuses ont été prises en compte, convertissons ces colonnes de Object --> float64.\n",
    "\n"
   ]
  },
  {
   "cell_type": "code",
   "execution_count": 26,
   "metadata": {
    "colab": {
     "base_uri": "https://localhost:8080/",
     "height": 175
    },
    "id": "ETGjqxOqhKRs",
    "outputId": "b9cdac25-1ec3-462d-de0c-db05aaee540a"
   },
   "outputs": [
    {
     "data": {
      "text/html": [
       "<div>\n",
       "<style scoped>\n",
       "    .dataframe tbody tr th:only-of-type {\n",
       "        vertical-align: middle;\n",
       "    }\n",
       "\n",
       "    .dataframe tbody tr th {\n",
       "        vertical-align: top;\n",
       "    }\n",
       "\n",
       "    .dataframe thead th {\n",
       "        text-align: right;\n",
       "    }\n",
       "</style>\n",
       "<table border=\"1\" class=\"dataframe\">\n",
       "  <thead>\n",
       "    <tr style=\"text-align: right;\">\n",
       "      <th></th>\n",
       "      <th>Location</th>\n",
       "      <th>Tournament</th>\n",
       "      <th>Series</th>\n",
       "      <th>Court</th>\n",
       "      <th>Surface</th>\n",
       "      <th>Round</th>\n",
       "      <th>Winner</th>\n",
       "      <th>Loser</th>\n",
       "      <th>Comment</th>\n",
       "    </tr>\n",
       "  </thead>\n",
       "  <tbody>\n",
       "    <tr>\n",
       "      <th>count</th>\n",
       "      <td>52298</td>\n",
       "      <td>52298</td>\n",
       "      <td>52298</td>\n",
       "      <td>52298</td>\n",
       "      <td>52298</td>\n",
       "      <td>52298</td>\n",
       "      <td>52298</td>\n",
       "      <td>52298</td>\n",
       "      <td>52298</td>\n",
       "    </tr>\n",
       "    <tr>\n",
       "      <th>unique</th>\n",
       "      <td>115</td>\n",
       "      <td>214</td>\n",
       "      <td>8</td>\n",
       "      <td>2</td>\n",
       "      <td>4</td>\n",
       "      <td>8</td>\n",
       "      <td>948</td>\n",
       "      <td>1483</td>\n",
       "      <td>5</td>\n",
       "    </tr>\n",
       "    <tr>\n",
       "      <th>top</th>\n",
       "      <td>Paris</td>\n",
       "      <td>Australian Open</td>\n",
       "      <td>International</td>\n",
       "      <td>Outdoor</td>\n",
       "      <td>Hard</td>\n",
       "      <td>1st Round</td>\n",
       "      <td>Federer R.</td>\n",
       "      <td>Lopez F.</td>\n",
       "      <td>Completed</td>\n",
       "    </tr>\n",
       "    <tr>\n",
       "      <th>freq</th>\n",
       "      <td>3306</td>\n",
       "      <td>2413</td>\n",
       "      <td>12204</td>\n",
       "      <td>42941</td>\n",
       "      <td>27716</td>\n",
       "      <td>24212</td>\n",
       "      <td>1121</td>\n",
       "      <td>415</td>\n",
       "      <td>50358</td>\n",
       "    </tr>\n",
       "  </tbody>\n",
       "</table>\n",
       "</div>"
      ],
      "text/plain": [
       "       Location       Tournament  ...     Loser    Comment\n",
       "count     52298            52298  ...     52298      52298\n",
       "unique      115              214  ...      1483          5\n",
       "top       Paris  Australian Open  ...  Lopez F.  Completed\n",
       "freq       3306             2413  ...       415      50358\n",
       "\n",
       "[4 rows x 9 columns]"
      ]
     },
     "execution_count": 26,
     "metadata": {
      "tags": []
     },
     "output_type": "execute_result"
    }
   ],
   "source": [
    "col_updated = ['L2', 'L3', 'LRank', 'WRank','EXW' ,'Lsets', 'W2', 'W3']\n",
    "for w in col_updated:\n",
    "  df_atp.loc[:, [w]] = np.float64(df_atp[w][:])\n",
    "\n",
    "df_atp.describe(include=['O'])"
   ]
  },
  {
   "cell_type": "markdown",
   "metadata": {
    "id": "em3oswcbkhd5"
   },
   "source": [
    "### **Gestion des données manquantes (nan) :**"
   ]
  },
  {
   "cell_type": "markdown",
   "metadata": {
    "id": "_-MuRfu7lEtZ"
   },
   "source": [
    "Nombre de valeurs manquantes (NaN) par chaque feature :"
   ]
  },
  {
   "cell_type": "code",
   "execution_count": 28,
   "metadata": {
    "colab": {
     "base_uri": "https://localhost:8080/"
    },
    "id": "Iuuf9Ynxaoc1",
    "outputId": "840b5181-f7ec-405d-b498-44e0a9f2afb0"
   },
   "outputs": [
    {
     "name": "stdout",
     "output_type": "stream",
     "text": [
      "Taille des données : 52298\n"
     ]
    },
    {
     "data": {
      "text/plain": [
       "ATP                      0\n",
       "Location                 0\n",
       "Tournament               0\n",
       "Date                     0\n",
       "Series                   0\n",
       "Court                    0\n",
       "Surface                  0\n",
       "Round                    0\n",
       "Best of                  0\n",
       "Winner                   0\n",
       "Loser                    0\n",
       "WRank                   16\n",
       "LRank                  105\n",
       "W1                     263\n",
       "L1                     261\n",
       "W2                     774\n",
       "L2                     773\n",
       "W3                   28228\n",
       "L3                   28228\n",
       "W4                   47567\n",
       "L4                   47567\n",
       "W5                   50507\n",
       "L5                   50507\n",
       "Wsets                  224\n",
       "Lsets                  225\n",
       "Comment                  0\n",
       "CBW                  34792\n",
       "CBL                  34792\n",
       "GBW                  47243\n",
       "GBL                  47243\n",
       "IWW                  38940\n",
       "IWL                  38940\n",
       "SBW                  46874\n",
       "SBL                  46874\n",
       "B365W                 8655\n",
       "B365L                 8632\n",
       "B&WW                 51201\n",
       "B&WL                 51201\n",
       "EXW                  12888\n",
       "EXL                  12882\n",
       "PSW                  14959\n",
       "PSL                  14959\n",
       "WPts                 16204\n",
       "LPts                 16263\n",
       "UBW                  41627\n",
       "UBL                  41627\n",
       "LBW                  24167\n",
       "LBL                  24156\n",
       "SJW                  36726\n",
       "SJL                  36719\n",
       "MaxW                 29553\n",
       "MaxL                 29553\n",
       "AvgW                 29553\n",
       "AvgL                 29553\n",
       "prior_wins_winner        0\n",
       "prior_wins_loser         0\n",
       "Labs                     0\n",
       "dtype: int64"
      ]
     },
     "execution_count": 28,
     "metadata": {
      "tags": []
     },
     "output_type": "execute_result"
    }
   ],
   "source": [
    "print(\"Taille des données : {}\".format(df_atp.shape[0]))\n",
    "nulls=df_atp.isnull().sum()\n",
    "nulls"
   ]
  },
  {
   "cell_type": "code",
   "execution_count": 29,
   "metadata": {
    "colab": {
     "base_uri": "https://localhost:8080/",
     "height": 1000
    },
    "id": "YVkhy-oNiI_V",
    "outputId": "261feef4-64a2-47da-aa5d-38811fe43a21"
   },
   "outputs": [
    {
     "data": {
      "image/png": "[encoded data removed]",
      "text/plain": [
       "<Figure size 1440x1440 with 1 Axes>"
      ]
     },
     "metadata": {
      "needs_background": "light",
      "tags": []
     },
     "output_type": "display_data"
    }
   ],
   "source": [
    "feat_nan, cols = zip(*sorted(zip(nulls, df_atp.columns)))\n",
    "plt.figure(figsize=(20, 20))\n",
    "plt.barh(range(len(cols)), feat_nan, align=\"center\", color='coral');\n",
    "plt.yticks(range(len(cols)), cols)\n",
    "plt.title(\"Nombre de lignes vides pour chaque caractéristique\")\n",
    "plt.xlabel(\"Effectif des lignes avec NaN\")\n",
    "plt.tight_layout();"
   ]
  },
  {
   "cell_type": "markdown",
   "metadata": {
    "id": "0onG37pvYk0X"
   },
   "source": [
    "**Stratégie de gestion des valeurs NAN** :\n"
   ]
  },
  {
   "cell_type": "markdown",
   "metadata": {
    "id": "WxMEdKZRYusT"
   },
   "source": [
    "Nous remplissons les valeurs NaN avec la stratégie suivante:\n",
    "\n",
    "\n",
    "*   Suppréssion des champs contenant trop des champs NAN (on définit un seuil minimum soit 3/4 par exemple)\n",
    "\n",
    "*   Le nombre de lignes avec des valeurs manquantes dans l'un des WRank, LRank est faible par rapport à la taille de l'ensemble de données, leurs suppression ne fais pas du mal mais il est possible aussi de les remplir avec la valeur de classement maximale dans chaque colonne (personellement j'opte pour la première alternative).\n",
    "\n",
    "*  Lsets, L1, W1, L2 et W2 est faible par rapport à la taille de l'ensemble de données, et il n'y a pas de moyen facile de déduire leurs données, il serait donc possible de les supprimer.On peut les attribuer des zéros aussi si on suppose que ces cas correpondent à un retrait d'un des joueurs.(personellement j'opte pour la première alternative)\n",
    "\n",
    "*   Presque tout le jeu de données n'a pas de valeurs pour W4, L4, W5 et L5. Cela est dû au fait que la plupart des jeux s'arretent au 3 eme tour, donc ne nécessitent pas 4 ou 5 tours, je propose alors de remplacer les NaN par des zéros, en supposant que le match est gagné avant d'arriver à cet ensemble.\n",
    "\n",
    "\n",
    "*   Pour le nombre de sets gagnés lors du match Wsets et Lsets, nous supposons que les valeurs NaN correspondent à un retrait (par exemple en raison d'une blessure), nous remplaçons donc cela par des zéros ou carrement les supprimer vue qu'ils ne sont nombreux.\n",
    "\n",
    "\n",
    "\n",
    "*    Près de la moitié de l'ensemble de données ne contient pas les valeurs pour AvgW, AvgL, MaxW et MaxL. Ces valeurs peuvent être calculées, ce n'est donc pas un gros problème. En effet, on fais des agrégations sur les *odds*  tels que : \"'B365W', 'EXW', ... ect\"\n",
    "\n",
    "*    Pour les valeurs simples des *odds* comme  : \"'B365W', 'EXW', ... ect\", on remplace NaNs par une valeur de 1.0 qui correspond à une probabilité de gain de 50% (Pour une paire  W / L, la probabilité de gain est donnée par p = W / (W + L) = 1/2 = probabilité de perte).Mais ça depend de chaque type de cote, il y en a certains à supprimer eventuellment (ceux qui contient trop de nan)\n",
    "\n",
    "\n",
    "\n",
    "\n",
    "\n",
    "** Completons d'abord les valeurs MaxW, MaxL, AvgW et AvgL, à partir des valeurs 'B365W', 'EXW', ... ect **\n",
    "\n",
    "Mais on remarque par exemple que b&wL et b&wW présentent plus de 50k valeurs manquantes en pratique ces champs ne servent pas à grand chose. Donc on essaye meme pas de les inférer pour éviter le risque de biaser les données. Il est préférable donc de ne pas les consédirer. (Pareil pour GB, SB , UB et IW)\n",
    "\n",
    "\n",
    "\n",
    "\n",
    "   \n",
    "   \n",
    "    \n",
    "    \n",
    "\n"
   ]
  },
  {
   "cell_type": "code",
   "execution_count": 30,
   "metadata": {
    "id": "_c38cRLu1h4f"
   },
   "outputs": [],
   "source": [
    "odds_W = ['B365W', 'EXW', 'PSW', 'LBW', 'CBW', 'SJW', 'IWW', 'UBW', 'SBW', 'GBW', 'B&WW']\n",
    "odds_L = ['B365L', 'EXL', 'PSL', 'LBL', 'CBL', 'SJL', 'IWL', 'UBL', 'SBL', 'GBL', 'B&WL']"
   ]
  },
  {
   "cell_type": "markdown",
   "metadata": {
    "id": "JrhWvEJyiBQp"
   },
   "source": [
    "Supprimons les colones entièrement remplis par NaN"
   ]
  },
  {
   "cell_type": "code",
   "execution_count": 31,
   "metadata": {
    "id": "EyD8SkIGSMq3"
   },
   "outputs": [],
   "source": [
    "df_atp = df_atp.dropna(axis=1, how=\"all\")"
   ]
  },
  {
   "cell_type": "markdown",
   "metadata": {
    "id": "1t5HC1XZpNMG"
   },
   "source": [
    "Puis, Pour les valeurs simples des odds comme : \"'B365W', 'EXW', ... ect\", soit \n",
    "\n",
    "*   on remplace NaNs par une valeur de 1.0 qui correspond à une probabilité de gain de 50% (Pour une paire W / L, la probabilité de gain est donnée par p = W / (W + L) = 1/2 = probabilité de perte)\n",
    "\n",
    "*  Soit on supprime les champs ayant au plus une valeur NAN (inutile pour calculer Avg qui requiert au moins deux valeurs)\n",
    "\n"
   ]
  },
  {
   "cell_type": "code",
   "execution_count": 32,
   "metadata": {
    "colab": {
     "base_uri": "https://localhost:8080/"
    },
    "id": "UtVcr7HVnIZo",
    "outputId": "d5f51c1f-e60b-46e0-d08e-0d0d7054ba75"
   },
   "outputs": [
    {
     "name": "stdout",
     "output_type": "stream",
     "text": [
      "Nombre des entrées avant la suppression: 52298\n",
      "----------------------------------------\n",
      "Data entries after dropping: 48141\n"
     ]
    }
   ],
   "source": [
    "#df_atp.fillna({x : 1.0 for x in odds_L+odds_W}, inplace=True)\n",
    "\n",
    "print('Nombre des entrées avant la suppression:', df_atp.shape[0])\n",
    "df_atp.dropna(subset=odds_W, thresh=2, axis=0, inplace=True)\n",
    "df_atp.dropna(subset=odds_L, thresh=2, axis=0, inplace=True)\n",
    "print(\"-\" * 40)\n",
    "print('Data entries after dropping:', df_atp.shape[0])"
   ]
  },
  {
   "cell_type": "code",
   "execution_count": 33,
   "metadata": {
    "colab": {
     "base_uri": "https://localhost:8080/"
    },
    "id": "BEAeVedDmGCO",
    "outputId": "c3ea22b8-a8b9-4064-8fae-6fc5c8bf0f86"
   },
   "outputs": [
    {
     "name": "stdout",
     "output_type": "stream",
     "text": [
      "Valeurs manquantes pour AvgW avant MaJ: 25455\n",
      "Valeurs manquantes pour AvgL avant MaJ: 25455\n",
      "*********************************************\n",
      "Valeurs manquantes pour AvgW après MaJ: 0\n",
      "Valeurs manquantes pour AvgL après MaJ: 0\n",
      "\n",
      "\n",
      "Valeurs manquantes pour MaxW avant MaJ: 25455\n",
      "Valeurs manquantes pour MaxL avant MaJ: 25455\n",
      "*********************************************\n",
      "Valeurs manquantes pour MaxW après MaJ: 0\n",
      "Valeurs manquantes pour MaxL après MaJ: 0\n"
     ]
    }
   ],
   "source": [
    "# Compléter les valeurs manquantes de AvgW et AvgL = moyennes des \"odds\"\n",
    "print(\"Valeurs manquantes pour AvgW avant MaJ:\",sum(df_atp['AvgW'].isna()))\n",
    "print(\"Valeurs manquantes pour AvgL avant MaJ:\",sum(df_atp['AvgL'].isna()))\n",
    "\n",
    "df_atp['AvgW'].fillna(df_atp[odds_W].mean(axis=1), inplace=True)\n",
    "df_atp['AvgL'].fillna(df_atp[odds_L].mean(axis=1), inplace=True)\n",
    "\n",
    "print(\"*\" * 45)\n",
    "\n",
    "print(\"Valeurs manquantes pour AvgW après MaJ:\", sum(df_atp['AvgW'].isna()))\n",
    "print(\"Valeurs manquantes pour AvgL après MaJ:\",sum(df_atp['AvgL'].isna()))\n",
    "print('\\n')\n",
    "\n",
    "# Compléter les valeurs manquantes pour MaxW et MaxL = max des valeurs singulières \"odds\"\n",
    "print(\"Valeurs manquantes pour MaxW avant MaJ:\",sum(df_atp['MaxW'].isna()))\n",
    "print(\"Valeurs manquantes pour MaxL avant MaJ:\",sum(df_atp['MaxL'].isna()))\n",
    "\n",
    "df_atp['MaxW'].fillna(df_atp[odds_W].max(axis=1), inplace=True)\n",
    "df_atp['MaxL'].fillna(df_atp[odds_L].max(axis=1), inplace=True)\n",
    "\n",
    "print(\"*\" * 45)\n",
    "\n",
    "print(\"Valeurs manquantes pour MaxW après MaJ:\", sum(df_atp['MaxW'].isna()))\n",
    "print(\"Valeurs manquantes pour MaxL après MaJ:\",sum(df_atp['MaxL'].isna()))\n"
   ]
  },
  {
   "cell_type": "markdown",
   "metadata": {
    "id": "LVa-j5l62kMW"
   },
   "source": [
    "Comme les entrées des Wrank Et Lrank sont pas nombreaux on peut : soit\n",
    "\n",
    "*   remplir les NaN de WRank, LRank avec la valeur de classement maximale dans chaque colonne. \n",
    "\n",
    "* Carement supprimer ces entrées."
   ]
  },
  {
   "cell_type": "code",
   "execution_count": 34,
   "metadata": {
    "colab": {
     "base_uri": "https://localhost:8080/"
    },
    "id": "I6OmjZr83dge",
    "outputId": "fab302e7-794f-4f0f-93ea-bc69cc3274d9"
   },
   "outputs": [
    {
     "name": "stdout",
     "output_type": "stream",
     "text": [
      "Nombre des entrées avant la suppression: 48141\n",
      "--------------------------------------------------\n",
      "Nombre des entrées après la suppression: 48046\n"
     ]
    }
   ],
   "source": [
    "#df_atp[\"WRank\"] = df_atp[\"WRank\"].fillna(df_atp[\"WRank\"].max())\n",
    "#df_atp[\"LRank\"] = df_atp[\"LRank\"].fillna(df_atp[\"LRank\"].max())\n",
    "\n",
    "print('Nombre des entrées avant la suppression:', df_atp.shape[0])\n",
    "df_atp.dropna(subset=['LRank','WRank'], axis=0, inplace=True)\n",
    "print(\"-\" * 50)\n",
    "print('Nombre des entrées après la suppression:', df_atp.shape[0])"
   ]
  },
  {
   "cell_type": "markdown",
   "metadata": {
    "id": "swtlvEZ_ErKt"
   },
   "source": [
    "\n",
    "*    Pour le nombre de points gagnées par set, on remplace les NaN par des zéros, en supposant que le match est gagné avant d'arriver à cet ensemble\n",
    "\n",
    "*   Pour le nombre de sets gagnés lors du match Wsets et Lsets, nous supposons que les valeurs NaN correspondent à un retrait (par exemple en raison d'une blessure), nous remplaçons donc cela par des zéros\n",
    "\n",
    "* On peut égalment supprimer ces valeurs vue qu'ils ne sont pas nombreux.\n"
   ]
  },
  {
   "cell_type": "code",
   "execution_count": 35,
   "metadata": {
    "colab": {
     "base_uri": "https://localhost:8080/"
    },
    "id": "VCY2qG451Lq_",
    "outputId": "1fc23b03-7cf4-4470-e406-6db0b6606753"
   },
   "outputs": [
    {
     "name": "stdout",
     "output_type": "stream",
     "text": [
      "Nombre des entrées avant la suppression: 48046\n",
      "--------------------------------------------------\n",
      "Nombre des entrées après la suppression: 47332\n"
     ]
    }
   ],
   "source": [
    "sets=[\"L1\", \"L2\", \"L3\", \"L4\", \"L5\", \"W1\", \"W2\", \"W3\", \"W4\", \"W5\",\"Wsets\",\"Lsets\"]\n",
    "#df_atp.fillna({x : 0 for x in sets}, inplace=True)\n",
    "\n",
    "print('Nombre des entrées avant la suppression:', df_atp.shape[0])\n",
    "df_atp.dropna(subset=['Wsets', 'Lsets', 'L1', 'W1', 'L2', 'W2'], axis=0, inplace=True)\n",
    "print(\"-\" * 50)\n",
    "print('Nombre des entrées après la suppression:', df_atp.shape[0])"
   ]
  },
  {
   "cell_type": "markdown",
   "metadata": {
    "id": "5Q23f2k56mPk"
   },
   "source": [
    "## Extraction et/ou Selection des caractéristiques (Feature extraction/selection):"
   ]
  },
  {
   "cell_type": "markdown",
   "metadata": {
    "id": "Wd2ZRzW_6142"
   },
   "source": [
    "Cette partie sert à identifier les caractéristiques (attributs) portant le plus d'information (les plus discriminiantes ) et qui ne présentent pas de corrélation entre elles.\n",
    "\n",
    "\n",
    "*   On a pris le temps de faire une préparation des données (gestion des données manquantes ) en consédirant toutes les caractéristiques de notre dataset, justement pour permettre de faire un bon choix des caractétiques à utiliser pour l'apprentissage.Ainsi on a tout le dataset qui est pret à etre explorer pour en extraire les caractéristiques les plus discriminantes.\n",
    "\n",
    "*   Pour faire une extraction de caractérstique éfficasse il existe plusieurs méthodes:\n",
    "\n",
    "Sélectionner un sous-ensemble de scaractéristiques existantes:\n",
    "\n",
    "\n",
    "*   ▶Approches de type Filtering\n",
    "*   ▶Approches de type Wrappers\n",
    "\n",
    "\n",
    "Combiner des caractéristiques existantes pour obtenir un (petit nombre) de caractéristiques pertinentes:\n",
    "\n",
    "*   ▶Approches de type PCA\n",
    "*   ▶Approches de type Auto-Encodage\n",
    "*   ▶Approches de typeRepresentation Learning (Deep Learning).\n",
    "\n",
    "Nous, on va utiliser plus tot s'intérisser à la première approche :\n",
    "\n",
    "\n",
    "Limité par le temps, on vas faire un choix à priori sur les caractéristiques qu'on juge pertininentes ie celles avec le pouvoir prédictif le plus élevé, cepandant on propose comme piste d'amélioration de l'étude une méthode Wrrapers:\n",
    "choix à posteriori basé sur la qualité du modèle obtenu.\n",
    "\n",
    "Dans la suite on va supprimer des caractéristiques et en ajouter d'autre dans le but de réduire la dimension et d'éviter une perte d'information.\n",
    "\n",
    "\n",
    "\n",
    "**Remarque:** Lors de l'apprentissage des modèles, on a pas le droit d'inclure des caractéristiques portant de l'information sur la vérité terrain (Labels= résultat du match) en temps présent (comme par exemple le nombre de points gagné par chaque joueur dans le match en question). Seuls les statistiques à priori (portant sur les matchs précédents) peuvent etres exploitées. Dans notre cas, on va se baser beaucoup plus sur les deux cractéristiques qu'on a calculé dans la question 4 **prior_wins_winner** et **prior_wins_loser**\n",
    "\n",
    "\n",
    "\n",
    "\n",
    "\n"
   ]
  },
  {
   "cell_type": "markdown",
   "metadata": {
    "id": "CKoucOpmK6gO"
   },
   "source": [
    "** Une caréctéristique tes importante qui ne figure pas sur le dataset c'est bien Le min des cotes 'odds' **MinL et MinW** ==> Rajoutons les"
   ]
  },
  {
   "cell_type": "code",
   "execution_count": 36,
   "metadata": {
    "id": "RtvOXqp8LuEe"
   },
   "outputs": [],
   "source": [
    "\n",
    "#Ajouter les deux caracréistiques MinL et MinW = min des cotes\n",
    "df_atp['MinW']=df_atp[odds_W].min(axis=1)\n",
    "df_atp['MinL']=df_atp[odds_L].min(axis=1)"
   ]
  },
  {
   "cell_type": "markdown",
   "metadata": {
    "id": "jZZh1Fm3Ep8L"
   },
   "source": [
    "\n",
    "** On remarque que il y plusieurs types de caractéristiques à considérer ** :\n",
    "\n",
    "\n",
    "\n",
    "1.   Caractéristiques liées au lieu et à l'organisation (Tourmant, Serie, Date, Tour)\n",
    "2.   Caractéristiques relatives au terrain de jeu (Surface, Court)\n",
    "3.   Performances des joueurs (LPts, WPts, WRank, LRank , Wset ... etc)\n",
    "4.   Données de paris \"odds\" avec d'éventuelles agrégation (AvgW, AvgL , BET65W ... ect)\n",
    "\n",
    "\n",
    "L'objectif est de produire un modèle simple et performant (utilsant un ensemble minimal et discriminant d'attributs, qui contient pas de corrélation).\n"
   ]
  },
  {
   "cell_type": "markdown",
   "metadata": {
    "id": "lu3bWfNpDDeq"
   },
   "source": [
    "**Attention à la corrélation : (Informaqtion rededante )Exemple de corrélation entre les caractéristiques : Wpts et WRank.**"
   ]
  },
  {
   "cell_type": "markdown",
   "metadata": {
    "id": "W6_7VGbKDyUt"
   },
   "source": [
    "Mon bon sens me dit qu'il existe une corrélation directe entre Rank et Point, ce qui signifierait que les caractéristiques Pts ne sont pas nécessaires.\n",
    "\n",
    "Pour confirmer cette hypothèse, faisons un simple nuage de points où l'axe X est le rang (WRank) et l'axe Y sont les points (WPts)."
   ]
  },
  {
   "cell_type": "code",
   "execution_count": 37,
   "metadata": {
    "colab": {
     "base_uri": "https://localhost:8080/",
     "height": 299
    },
    "id": "UeyPJ9Fs5AiU",
    "outputId": "4a22de55-e883-4e14-8b12-d6dc193bdadd"
   },
   "outputs": [
    {
     "data": {
      "text/plain": [
       "<matplotlib.axes._subplots.AxesSubplot at 0x7fc147125208>"
      ]
     },
     "execution_count": 37,
     "metadata": {
      "tags": []
     },
     "output_type": "execute_result"
    },
    {
     "data": {
      "image/png": "[encoded data removed]",
      "text/plain": [
       "<Figure size 432x288 with 1 Axes>"
      ]
     },
     "metadata": {
      "needs_background": "light",
      "tags": []
     },
     "output_type": "display_data"
    }
   ],
   "source": [
    "# Tirer aléatoirement 200 entrées .\n",
    "sample = df_atp.iloc[list(random.sample(range(df_atp.shape[0]), 200)), :]\n",
    "sample.plot.scatter(x='WRank', y='WPts')"
   ]
  },
  {
   "cell_type": "markdown",
   "metadata": {
    "id": "y1vAx7pxXyHu"
   },
   "source": [
    "Tout comme on le soupçonne, les points et le rang forment une très jolie fonction quadratique.Donc dans la suite on prend une des deux caractéristiques jmais les deux à la fois\n"
   ]
  },
  {
   "cell_type": "markdown",
   "metadata": {
    "id": "QNpywYKmW3ZQ"
   },
   "source": [
    "**La date en tant qu'objet datetime n'a aucune utilité, je la remplacerai donc par la différence en jours entre la date de l'entrée et la date la plus ancienne enregistrée dans l'ensemble de données.**"
   ]
  },
  {
   "cell_type": "code",
   "execution_count": 38,
   "metadata": {
    "colab": {
     "base_uri": "https://localhost:8080/"
    },
    "id": "TnrnPBAXRTqO",
    "outputId": "797e14b2-f494-4281-cf58-a3e53832f539"
   },
   "outputs": [
    {
     "data": {
      "text/plain": [
       "array([   0,    7,   14, ..., 6528, 6529, 6530])"
      ]
     },
     "execution_count": 38,
     "metadata": {
      "tags": []
     },
     "output_type": "execute_result"
    }
   ],
   "source": [
    "basedate = df_atp.Date.sort_values().values[0]\n",
    "df_atp['Days'] = list(map(lambda d: (d - basedate).days, df_atp.Date))\n",
    "df_atp.Days.unique()"
   ]
  },
  {
   "cell_type": "code",
   "execution_count": 39,
   "metadata": {
    "colab": {
     "base_uri": "https://localhost:8080/"
    },
    "id": "9R95zIkMEf0d",
    "outputId": "820a915b-ac57-4a62-d793-1dfa60e2ac2f"
   },
   "outputs": [
    {
     "data": {
      "text/plain": [
       "Date                 0\n",
       "Days                 0\n",
       "ATP                  0\n",
       "Series               0\n",
       "Court                0\n",
       "Surface              0\n",
       "WRank                0\n",
       "LRank                0\n",
       "prior_wins_winner    0\n",
       "prior_wins_loser     0\n",
       "AvgW                 0\n",
       "MaxW                 0\n",
       "MinW                 0\n",
       "AvgL                 0\n",
       "MaxL                 0\n",
       "MinL                 0\n",
       "Labs                 0\n",
       "dtype: int64"
      ]
     },
     "execution_count": 39,
     "metadata": {
      "tags": []
     },
     "output_type": "execute_result"
    }
   ],
   "source": [
    "odds_L      = ['B365L', 'EXL', 'PSL', 'LBL', 'CBL', 'SJL']\n",
    "odds_W      = ['B365W', 'EXW', 'PSW', 'LBW', 'CBW', 'SJW']\n",
    "agg_odds_W  = ['AvgW','MaxW','MinW']\n",
    "agg_odds_L  = ['AvgL','MaxL','MinL']\n",
    "\n",
    "player      = ['WRank','LRank','prior_wins_winner','prior_wins_loser']\n",
    "env         = [\"Date\",\"Days\",'ATP','Series','Court','Surface'] #Date est gardée juste pour faire le split train/test c'est Days qui nous intérèsse le plus pour l'apprentissage des modèles.\n",
    "labs        = ['Labs']\n",
    "\n",
    "columns_fit=env+ player+agg_odds_W+agg_odds_L+labs\n",
    "df_atp[columns_fit].isnull().sum()"
   ]
  },
  {
   "cell_type": "markdown",
   "metadata": {
    "id": "HZhncsW4OTe_"
   },
   "source": [
    "Les caractéristiques sont réparties sur le gagnaint \"Winner\" et le perdant \"Loser\" sauf que nous,  on a changé la logique d'annontation pour éviter le bias sur les classes === > il est nécissaire alors de répartir les caractéristiques sur les joueurs en suivant la meme logique (ordre lexcographique sur les 2 joueurs)"
   ]
  },
  {
   "cell_type": "code",
   "execution_count": 46,
   "metadata": {
    "colab": {
     "base_uri": "https://localhost:8080/",
     "height": 632
    },
    "id": "GFxGQPSmYdoJ",
    "outputId": "4cb79e7e-b40b-49d1-f348-34f14cbccf72"
   },
   "outputs": [
    {
     "name": "stderr",
     "output_type": "stream",
     "text": [
      "/usr/local/lib/python3.6/dist-packages/ipykernel_launcher.py:7: SettingWithCopyWarning: \n",
      "A value is trying to be set on a copy of a slice from a DataFrame.\n",
      "Try using .loc[row_indexer,col_indexer] = value instead\n",
      "\n",
      "See the caveats in the documentation: https://pandas.pydata.org/pandas-docs/stable/user_guide/indexing.html#returning-a-view-versus-a-copy\n",
      "  import sys\n",
      "/usr/local/lib/python3.6/dist-packages/ipykernel_launcher.py:8: SettingWithCopyWarning: \n",
      "A value is trying to be set on a copy of a slice from a DataFrame.\n",
      "Try using .loc[row_indexer,col_indexer] = value instead\n",
      "\n",
      "See the caveats in the documentation: https://pandas.pydata.org/pandas-docs/stable/user_guide/indexing.html#returning-a-view-versus-a-copy\n",
      "  \n"
     ]
    },
    {
     "data": {
      "text/html": [
       "<div>\n",
       "<style scoped>\n",
       "    .dataframe tbody tr th:only-of-type {\n",
       "        vertical-align: middle;\n",
       "    }\n",
       "\n",
       "    .dataframe tbody tr th {\n",
       "        vertical-align: top;\n",
       "    }\n",
       "\n",
       "    .dataframe thead th {\n",
       "        text-align: right;\n",
       "    }\n",
       "</style>\n",
       "<table border=\"1\" class=\"dataframe\">\n",
       "  <thead>\n",
       "    <tr style=\"text-align: right;\">\n",
       "      <th></th>\n",
       "      <th>Date</th>\n",
       "      <th>Days</th>\n",
       "      <th>ATP</th>\n",
       "      <th>Series</th>\n",
       "      <th>Court</th>\n",
       "      <th>Surface</th>\n",
       "      <th>Labs</th>\n",
       "      <th>Rank_P1</th>\n",
       "      <th>Rank_P0</th>\n",
       "      <th>prior_wins_P1</th>\n",
       "      <th>prior_wins_P0</th>\n",
       "      <th>Avg_P1</th>\n",
       "      <th>Avg_P0</th>\n",
       "      <th>Max_P1</th>\n",
       "      <th>Max_P0</th>\n",
       "      <th>Min_P1</th>\n",
       "      <th>Min_P0</th>\n",
       "    </tr>\n",
       "  </thead>\n",
       "  <tbody>\n",
       "    <tr>\n",
       "      <th>2965</th>\n",
       "      <td>2001-01-01</td>\n",
       "      <td>0</td>\n",
       "      <td>1</td>\n",
       "      <td>International</td>\n",
       "      <td>Outdoor</td>\n",
       "      <td>Hard</td>\n",
       "      <td>1</td>\n",
       "      <td>23.0</td>\n",
       "      <td>485.0</td>\n",
       "      <td>0.574468</td>\n",
       "      <td>0.000000</td>\n",
       "      <td>1.1100</td>\n",
       "      <td>3.750000</td>\n",
       "      <td>1.12</td>\n",
       "      <td>4.00</td>\n",
       "      <td>1.10</td>\n",
       "      <td>3.50</td>\n",
       "    </tr>\n",
       "    <tr>\n",
       "      <th>2967</th>\n",
       "      <td>2001-01-01</td>\n",
       "      <td>0</td>\n",
       "      <td>1</td>\n",
       "      <td>International</td>\n",
       "      <td>Outdoor</td>\n",
       "      <td>Hard</td>\n",
       "      <td>0</td>\n",
       "      <td>83.0</td>\n",
       "      <td>7.0</td>\n",
       "      <td>0.419355</td>\n",
       "      <td>0.779412</td>\n",
       "      <td>3.5500</td>\n",
       "      <td>1.200000</td>\n",
       "      <td>3.80</td>\n",
       "      <td>1.28</td>\n",
       "      <td>3.30</td>\n",
       "      <td>1.12</td>\n",
       "    </tr>\n",
       "    <tr>\n",
       "      <th>2979</th>\n",
       "      <td>2001-01-01</td>\n",
       "      <td>0</td>\n",
       "      <td>1</td>\n",
       "      <td>International</td>\n",
       "      <td>Outdoor</td>\n",
       "      <td>Hard</td>\n",
       "      <td>1</td>\n",
       "      <td>23.0</td>\n",
       "      <td>127.0</td>\n",
       "      <td>0.574468</td>\n",
       "      <td>0.500000</td>\n",
       "      <td>1.2825</td>\n",
       "      <td>2.925000</td>\n",
       "      <td>1.35</td>\n",
       "      <td>3.20</td>\n",
       "      <td>1.20</td>\n",
       "      <td>2.60</td>\n",
       "    </tr>\n",
       "    <tr>\n",
       "      <th>2985</th>\n",
       "      <td>2001-01-01</td>\n",
       "      <td>0</td>\n",
       "      <td>1</td>\n",
       "      <td>International</td>\n",
       "      <td>Outdoor</td>\n",
       "      <td>Hard</td>\n",
       "      <td>0</td>\n",
       "      <td>18.0</td>\n",
       "      <td>87.0</td>\n",
       "      <td>0.583333</td>\n",
       "      <td>0.522727</td>\n",
       "      <td>1.4300</td>\n",
       "      <td>2.407500</td>\n",
       "      <td>1.45</td>\n",
       "      <td>2.70</td>\n",
       "      <td>1.41</td>\n",
       "      <td>2.00</td>\n",
       "    </tr>\n",
       "    <tr>\n",
       "      <th>2986</th>\n",
       "      <td>2001-01-01</td>\n",
       "      <td>0</td>\n",
       "      <td>1</td>\n",
       "      <td>International</td>\n",
       "      <td>Outdoor</td>\n",
       "      <td>Hard</td>\n",
       "      <td>0</td>\n",
       "      <td>81.0</td>\n",
       "      <td>66.0</td>\n",
       "      <td>0.465116</td>\n",
       "      <td>0.600000</td>\n",
       "      <td>2.2100</td>\n",
       "      <td>1.543333</td>\n",
       "      <td>2.38</td>\n",
       "      <td>1.55</td>\n",
       "      <td>2.00</td>\n",
       "      <td>1.53</td>\n",
       "    </tr>\n",
       "    <tr>\n",
       "      <th>...</th>\n",
       "      <td>...</td>\n",
       "      <td>...</td>\n",
       "      <td>...</td>\n",
       "      <td>...</td>\n",
       "      <td>...</td>\n",
       "      <td>...</td>\n",
       "      <td>...</td>\n",
       "      <td>...</td>\n",
       "      <td>...</td>\n",
       "      <td>...</td>\n",
       "      <td>...</td>\n",
       "      <td>...</td>\n",
       "      <td>...</td>\n",
       "      <td>...</td>\n",
       "      <td>...</td>\n",
       "      <td>...</td>\n",
       "      <td>...</td>\n",
       "    </tr>\n",
       "    <tr>\n",
       "      <th>52293</th>\n",
       "      <td>2018-11-16</td>\n",
       "      <td>6528</td>\n",
       "      <td>67</td>\n",
       "      <td>Masters Cup</td>\n",
       "      <td>Indoor</td>\n",
       "      <td>Hard</td>\n",
       "      <td>0</td>\n",
       "      <td>10.0</td>\n",
       "      <td>5.0</td>\n",
       "      <td>0.622705</td>\n",
       "      <td>0.664032</td>\n",
       "      <td>3.1400</td>\n",
       "      <td>1.380000</td>\n",
       "      <td>3.40</td>\n",
       "      <td>1.44</td>\n",
       "      <td>3.20</td>\n",
       "      <td>1.36</td>\n",
       "    </tr>\n",
       "    <tr>\n",
       "      <th>52294</th>\n",
       "      <td>2018-11-16</td>\n",
       "      <td>6528</td>\n",
       "      <td>67</td>\n",
       "      <td>Masters Cup</td>\n",
       "      <td>Indoor</td>\n",
       "      <td>Hard</td>\n",
       "      <td>0</td>\n",
       "      <td>7.0</td>\n",
       "      <td>1.0</td>\n",
       "      <td>0.652047</td>\n",
       "      <td>0.829876</td>\n",
       "      <td>5.1400</td>\n",
       "      <td>1.170000</td>\n",
       "      <td>6.03</td>\n",
       "      <td>1.22</td>\n",
       "      <td>4.50</td>\n",
       "      <td>1.19</td>\n",
       "    </tr>\n",
       "    <tr>\n",
       "      <th>52295</th>\n",
       "      <td>2018-11-17</td>\n",
       "      <td>6529</td>\n",
       "      <td>67</td>\n",
       "      <td>Masters Cup</td>\n",
       "      <td>Indoor</td>\n",
       "      <td>Hard</td>\n",
       "      <td>0</td>\n",
       "      <td>3.0</td>\n",
       "      <td>5.0</td>\n",
       "      <td>0.829142</td>\n",
       "      <td>0.665354</td>\n",
       "      <td>1.3800</td>\n",
       "      <td>3.140000</td>\n",
       "      <td>1.45</td>\n",
       "      <td>3.40</td>\n",
       "      <td>1.36</td>\n",
       "      <td>3.20</td>\n",
       "    </tr>\n",
       "    <tr>\n",
       "      <th>52296</th>\n",
       "      <td>2018-11-17</td>\n",
       "      <td>6529</td>\n",
       "      <td>67</td>\n",
       "      <td>Masters Cup</td>\n",
       "      <td>Indoor</td>\n",
       "      <td>Hard</td>\n",
       "      <td>0</td>\n",
       "      <td>6.0</td>\n",
       "      <td>1.0</td>\n",
       "      <td>0.589792</td>\n",
       "      <td>0.830052</td>\n",
       "      <td>6.5200</td>\n",
       "      <td>1.120000</td>\n",
       "      <td>7.72</td>\n",
       "      <td>1.15</td>\n",
       "      <td>7.00</td>\n",
       "      <td>1.11</td>\n",
       "    </tr>\n",
       "    <tr>\n",
       "      <th>52297</th>\n",
       "      <td>2018-11-18</td>\n",
       "      <td>6530</td>\n",
       "      <td>67</td>\n",
       "      <td>Masters Cup</td>\n",
       "      <td>Indoor</td>\n",
       "      <td>Hard</td>\n",
       "      <td>0</td>\n",
       "      <td>1.0</td>\n",
       "      <td>5.0</td>\n",
       "      <td>0.830228</td>\n",
       "      <td>0.666667</td>\n",
       "      <td>1.1500</td>\n",
       "      <td>5.690000</td>\n",
       "      <td>1.22</td>\n",
       "      <td>6.36</td>\n",
       "      <td>1.14</td>\n",
       "      <td>5.50</td>\n",
       "    </tr>\n",
       "  </tbody>\n",
       "</table>\n",
       "<p>47332 rows × 17 columns</p>\n",
       "</div>"
      ],
      "text/plain": [
       "            Date  Days  ATP         Series  ... Max_P1 Max_P0  Min_P1  Min_P0\n",
       "2965  2001-01-01     0    1  International  ...   1.12   4.00    1.10    3.50\n",
       "2967  2001-01-01     0    1  International  ...   3.80   1.28    3.30    1.12\n",
       "2979  2001-01-01     0    1  International  ...   1.35   3.20    1.20    2.60\n",
       "2985  2001-01-01     0    1  International  ...   1.45   2.70    1.41    2.00\n",
       "2986  2001-01-01     0    1  International  ...   2.38   1.55    2.00    1.53\n",
       "...          ...   ...  ...            ...  ...    ...    ...     ...     ...\n",
       "52293 2018-11-16  6528   67    Masters Cup  ...   3.40   1.44    3.20    1.36\n",
       "52294 2018-11-16  6528   67    Masters Cup  ...   6.03   1.22    4.50    1.19\n",
       "52295 2018-11-17  6529   67    Masters Cup  ...   1.45   3.40    1.36    3.20\n",
       "52296 2018-11-17  6529   67    Masters Cup  ...   7.72   1.15    7.00    1.11\n",
       "52297 2018-11-18  6530   67    Masters Cup  ...   1.22   6.36    1.14    5.50\n",
       "\n",
       "[47332 rows x 17 columns]"
      ]
     },
     "execution_count": 46,
     "metadata": {
      "tags": []
     },
     "output_type": "execute_result"
    }
   ],
   "source": [
    "\n",
    "columns_fit= env+player+agg_odds_W+agg_odds_L+labs\n",
    "\n",
    "df_atp_X=df_atp[columns_fit]\n",
    "\n",
    "\n",
    "df_atp_X[\"Rank_P1\"] = df_atp_X.apply(lambda row: row[\"WRank\"] if row[\"Labs\"] == 1 else row[\"LRank\"], axis=1)\n",
    "df_atp_X[\"Rank_P0\"] = df_atp_X.apply(lambda row: row[\"WRank\"] if row[\"Labs\"] == 0 else row[\"LRank\"], axis=1)\n",
    "\n",
    "df_atp_X=df_atp_X.drop(\"WRank\", axis=1)\n",
    "df_atp_X=df_atp_X.drop(\"LRank\", axis=1)\n",
    "\n",
    "df_atp_X[\"prior_wins_P1\"] = df_atp_X.apply(lambda row: row[\"prior_wins_winner\"] if row[\"Labs\"] == 1 else row[\"prior_wins_loser\"], axis=1)\n",
    "df_atp_X[\"prior_wins_P0\"] = df_atp_X.apply(lambda row: row[\"prior_wins_winner\"] if row[\"Labs\"] == 0 else row[\"prior_wins_loser\"], axis=1)\n",
    "\n",
    "df_atp_X=df_atp_X.drop(\"prior_wins_winner\", axis=1)\n",
    "df_atp_X=df_atp_X.drop(\"prior_wins_loser\", axis=1)\n",
    "\n",
    "\n",
    "for col in list(zip((agg_odds_L),(agg_odds_W)))  :\n",
    "    suffix=col[0][:-1]\n",
    "    df_atp_X[suffix+\"_P1\"] = df_atp_X.apply(lambda row: row[col[1]] if row[\"Labs\"] == 1 else row[col[0]], axis=1)\n",
    "    df_atp_X[suffix+\"_P0\"] = df_atp_X.apply(lambda row: row[col[1]] if row[\"Labs\"] == 0 else row[col[0]], axis=1)\n",
    "   \n",
    "    df_atp_X=df_atp_X.drop(col[0], axis=1)\n",
    "    df_atp_X=df_atp_X.drop(col[1], axis=1)\n",
    "    #print(col[0],col[1])\n",
    "    \n",
    "\n",
    "df_atp_X"
   ]
  },
  {
   "cell_type": "markdown",
   "metadata": {
    "id": "IvFhjvZufn6o"
   },
   "source": [
    "Encodage des features en catégories (Series, Court, surface)"
   ]
  },
  {
   "cell_type": "code",
   "execution_count": 47,
   "metadata": {
    "colab": {
     "base_uri": "https://localhost:8080/",
     "height": 424
    },
    "id": "6lBOAv9VFlcv",
    "outputId": "b9a3e92e-38dd-4eb3-83ca-2f0b67f4c118"
   },
   "outputs": [
    {
     "data": {
      "text/html": [
       "<div>\n",
       "<style scoped>\n",
       "    .dataframe tbody tr th:only-of-type {\n",
       "        vertical-align: middle;\n",
       "    }\n",
       "\n",
       "    .dataframe tbody tr th {\n",
       "        vertical-align: top;\n",
       "    }\n",
       "\n",
       "    .dataframe thead th {\n",
       "        text-align: right;\n",
       "    }\n",
       "</style>\n",
       "<table border=\"1\" class=\"dataframe\">\n",
       "  <thead>\n",
       "    <tr style=\"text-align: right;\">\n",
       "      <th></th>\n",
       "      <th>Date</th>\n",
       "      <th>Days</th>\n",
       "      <th>ATP</th>\n",
       "      <th>Series</th>\n",
       "      <th>Court</th>\n",
       "      <th>Surface</th>\n",
       "      <th>Labs</th>\n",
       "      <th>Rank_P1</th>\n",
       "      <th>Rank_P0</th>\n",
       "      <th>prior_wins_P1</th>\n",
       "      <th>prior_wins_P0</th>\n",
       "      <th>Avg_P1</th>\n",
       "      <th>Avg_P0</th>\n",
       "      <th>Max_P1</th>\n",
       "      <th>Max_P0</th>\n",
       "      <th>Min_P1</th>\n",
       "      <th>Min_P0</th>\n",
       "    </tr>\n",
       "  </thead>\n",
       "  <tbody>\n",
       "    <tr>\n",
       "      <th>2965</th>\n",
       "      <td>2001-01-01</td>\n",
       "      <td>0</td>\n",
       "      <td>1</td>\n",
       "      <td>0</td>\n",
       "      <td>0</td>\n",
       "      <td>0</td>\n",
       "      <td>1</td>\n",
       "      <td>23.0</td>\n",
       "      <td>485.0</td>\n",
       "      <td>0.574468</td>\n",
       "      <td>0.000000</td>\n",
       "      <td>1.1100</td>\n",
       "      <td>3.750000</td>\n",
       "      <td>1.12</td>\n",
       "      <td>4.00</td>\n",
       "      <td>1.10</td>\n",
       "      <td>3.50</td>\n",
       "    </tr>\n",
       "    <tr>\n",
       "      <th>2967</th>\n",
       "      <td>2001-01-01</td>\n",
       "      <td>0</td>\n",
       "      <td>1</td>\n",
       "      <td>0</td>\n",
       "      <td>0</td>\n",
       "      <td>0</td>\n",
       "      <td>0</td>\n",
       "      <td>83.0</td>\n",
       "      <td>7.0</td>\n",
       "      <td>0.419355</td>\n",
       "      <td>0.779412</td>\n",
       "      <td>3.5500</td>\n",
       "      <td>1.200000</td>\n",
       "      <td>3.80</td>\n",
       "      <td>1.28</td>\n",
       "      <td>3.30</td>\n",
       "      <td>1.12</td>\n",
       "    </tr>\n",
       "    <tr>\n",
       "      <th>2979</th>\n",
       "      <td>2001-01-01</td>\n",
       "      <td>0</td>\n",
       "      <td>1</td>\n",
       "      <td>0</td>\n",
       "      <td>0</td>\n",
       "      <td>0</td>\n",
       "      <td>1</td>\n",
       "      <td>23.0</td>\n",
       "      <td>127.0</td>\n",
       "      <td>0.574468</td>\n",
       "      <td>0.500000</td>\n",
       "      <td>1.2825</td>\n",
       "      <td>2.925000</td>\n",
       "      <td>1.35</td>\n",
       "      <td>3.20</td>\n",
       "      <td>1.20</td>\n",
       "      <td>2.60</td>\n",
       "    </tr>\n",
       "    <tr>\n",
       "      <th>2985</th>\n",
       "      <td>2001-01-01</td>\n",
       "      <td>0</td>\n",
       "      <td>1</td>\n",
       "      <td>0</td>\n",
       "      <td>0</td>\n",
       "      <td>0</td>\n",
       "      <td>0</td>\n",
       "      <td>18.0</td>\n",
       "      <td>87.0</td>\n",
       "      <td>0.583333</td>\n",
       "      <td>0.522727</td>\n",
       "      <td>1.4300</td>\n",
       "      <td>2.407500</td>\n",
       "      <td>1.45</td>\n",
       "      <td>2.70</td>\n",
       "      <td>1.41</td>\n",
       "      <td>2.00</td>\n",
       "    </tr>\n",
       "    <tr>\n",
       "      <th>2986</th>\n",
       "      <td>2001-01-01</td>\n",
       "      <td>0</td>\n",
       "      <td>1</td>\n",
       "      <td>0</td>\n",
       "      <td>0</td>\n",
       "      <td>0</td>\n",
       "      <td>0</td>\n",
       "      <td>81.0</td>\n",
       "      <td>66.0</td>\n",
       "      <td>0.465116</td>\n",
       "      <td>0.600000</td>\n",
       "      <td>2.2100</td>\n",
       "      <td>1.543333</td>\n",
       "      <td>2.38</td>\n",
       "      <td>1.55</td>\n",
       "      <td>2.00</td>\n",
       "      <td>1.53</td>\n",
       "    </tr>\n",
       "    <tr>\n",
       "      <th>...</th>\n",
       "      <td>...</td>\n",
       "      <td>...</td>\n",
       "      <td>...</td>\n",
       "      <td>...</td>\n",
       "      <td>...</td>\n",
       "      <td>...</td>\n",
       "      <td>...</td>\n",
       "      <td>...</td>\n",
       "      <td>...</td>\n",
       "      <td>...</td>\n",
       "      <td>...</td>\n",
       "      <td>...</td>\n",
       "      <td>...</td>\n",
       "      <td>...</td>\n",
       "      <td>...</td>\n",
       "      <td>...</td>\n",
       "      <td>...</td>\n",
       "    </tr>\n",
       "    <tr>\n",
       "      <th>52293</th>\n",
       "      <td>2018-11-16</td>\n",
       "      <td>6528</td>\n",
       "      <td>67</td>\n",
       "      <td>4</td>\n",
       "      <td>1</td>\n",
       "      <td>0</td>\n",
       "      <td>0</td>\n",
       "      <td>10.0</td>\n",
       "      <td>5.0</td>\n",
       "      <td>0.622705</td>\n",
       "      <td>0.664032</td>\n",
       "      <td>3.1400</td>\n",
       "      <td>1.380000</td>\n",
       "      <td>3.40</td>\n",
       "      <td>1.44</td>\n",
       "      <td>3.20</td>\n",
       "      <td>1.36</td>\n",
       "    </tr>\n",
       "    <tr>\n",
       "      <th>52294</th>\n",
       "      <td>2018-11-16</td>\n",
       "      <td>6528</td>\n",
       "      <td>67</td>\n",
       "      <td>4</td>\n",
       "      <td>1</td>\n",
       "      <td>0</td>\n",
       "      <td>0</td>\n",
       "      <td>7.0</td>\n",
       "      <td>1.0</td>\n",
       "      <td>0.652047</td>\n",
       "      <td>0.829876</td>\n",
       "      <td>5.1400</td>\n",
       "      <td>1.170000</td>\n",
       "      <td>6.03</td>\n",
       "      <td>1.22</td>\n",
       "      <td>4.50</td>\n",
       "      <td>1.19</td>\n",
       "    </tr>\n",
       "    <tr>\n",
       "      <th>52295</th>\n",
       "      <td>2018-11-17</td>\n",
       "      <td>6529</td>\n",
       "      <td>67</td>\n",
       "      <td>4</td>\n",
       "      <td>1</td>\n",
       "      <td>0</td>\n",
       "      <td>0</td>\n",
       "      <td>3.0</td>\n",
       "      <td>5.0</td>\n",
       "      <td>0.829142</td>\n",
       "      <td>0.665354</td>\n",
       "      <td>1.3800</td>\n",
       "      <td>3.140000</td>\n",
       "      <td>1.45</td>\n",
       "      <td>3.40</td>\n",
       "      <td>1.36</td>\n",
       "      <td>3.20</td>\n",
       "    </tr>\n",
       "    <tr>\n",
       "      <th>52296</th>\n",
       "      <td>2018-11-17</td>\n",
       "      <td>6529</td>\n",
       "      <td>67</td>\n",
       "      <td>4</td>\n",
       "      <td>1</td>\n",
       "      <td>0</td>\n",
       "      <td>0</td>\n",
       "      <td>6.0</td>\n",
       "      <td>1.0</td>\n",
       "      <td>0.589792</td>\n",
       "      <td>0.830052</td>\n",
       "      <td>6.5200</td>\n",
       "      <td>1.120000</td>\n",
       "      <td>7.72</td>\n",
       "      <td>1.15</td>\n",
       "      <td>7.00</td>\n",
       "      <td>1.11</td>\n",
       "    </tr>\n",
       "    <tr>\n",
       "      <th>52297</th>\n",
       "      <td>2018-11-18</td>\n",
       "      <td>6530</td>\n",
       "      <td>67</td>\n",
       "      <td>4</td>\n",
       "      <td>1</td>\n",
       "      <td>0</td>\n",
       "      <td>0</td>\n",
       "      <td>1.0</td>\n",
       "      <td>5.0</td>\n",
       "      <td>0.830228</td>\n",
       "      <td>0.666667</td>\n",
       "      <td>1.1500</td>\n",
       "      <td>5.690000</td>\n",
       "      <td>1.22</td>\n",
       "      <td>6.36</td>\n",
       "      <td>1.14</td>\n",
       "      <td>5.50</td>\n",
       "    </tr>\n",
       "  </tbody>\n",
       "</table>\n",
       "<p>47332 rows × 17 columns</p>\n",
       "</div>"
      ],
      "text/plain": [
       "            Date  Days  ATP  Series  ...  Max_P1  Max_P0  Min_P1  Min_P0\n",
       "2965  2001-01-01     0    1       0  ...    1.12    4.00    1.10    3.50\n",
       "2967  2001-01-01     0    1       0  ...    3.80    1.28    3.30    1.12\n",
       "2979  2001-01-01     0    1       0  ...    1.35    3.20    1.20    2.60\n",
       "2985  2001-01-01     0    1       0  ...    1.45    2.70    1.41    2.00\n",
       "2986  2001-01-01     0    1       0  ...    2.38    1.55    2.00    1.53\n",
       "...          ...   ...  ...     ...  ...     ...     ...     ...     ...\n",
       "52293 2018-11-16  6528   67       4  ...    3.40    1.44    3.20    1.36\n",
       "52294 2018-11-16  6528   67       4  ...    6.03    1.22    4.50    1.19\n",
       "52295 2018-11-17  6529   67       4  ...    1.45    3.40    1.36    3.20\n",
       "52296 2018-11-17  6529   67       4  ...    7.72    1.15    7.00    1.11\n",
       "52297 2018-11-18  6530   67       4  ...    1.22    6.36    1.14    5.50\n",
       "\n",
       "[47332 rows x 17 columns]"
      ]
     },
     "execution_count": 47,
     "metadata": {
      "tags": []
     },
     "output_type": "execute_result"
    }
   ],
   "source": [
    "cat_features=['Series','Court','Surface']\n",
    "\n",
    "series_map = {}\n",
    "court_map = {}\n",
    "surface_map = {}\n",
    "\n",
    "maps = [series_map, court_map, surface_map]\n",
    "odds_W = ['B365W', 'EXW', 'PSW', 'LBW', 'CBW', 'SJW', 'IWW', 'UBW', 'SBW', 'GBW', 'B&WW']\n",
    "odds_L = ['B365L', 'EXL', 'PSL', 'LBL', 'CBL', 'SJL', 'IWL', 'UBL', 'SBL', 'GBL', 'B&WL']\n",
    "it = 0\n",
    "\n",
    "for c in df_atp_X.select_dtypes(include=object):\n",
    "    val = 0\n",
    "    for u in df_atp_X[c].unique():\n",
    "        maps[it][u] = val\n",
    "        val += 1\n",
    "    df_atp_X[c] = df_atp_X[c].map(maps[it])\n",
    "    it += 1\n",
    "\n",
    "encoded_atp=df_atp_X\n",
    "df_atp_X"
   ]
  },
  {
   "cell_type": "markdown",
   "metadata": {
    "id": "-wdRb2zXlvej"
   },
   "source": [
    "S'il exsite des chamaps entièrement rempli par une valeur unique, alors il est préfirable de les éliminer "
   ]
  },
  {
   "cell_type": "code",
   "execution_count": 48,
   "metadata": {
    "id": "I9P8Y1XCjWsE"
   },
   "outputs": [],
   "source": [
    "#encoded_atp = encoded_atp.loc[:,encoded_atp.apply(pd.Series.nunique) != 1]\n",
    "df_atp_X = df_atp_X.loc[:,df_atp_X.apply(pd.Series.nunique) != 1]"
   ]
  },
  {
   "cell_type": "markdown",
   "metadata": {
    "id": "FODbwl78m2Lb"
   },
   "source": [
    "**Retour à la corrélation :**  On trace la matrice de corrélation entre les différentes caractérisqtues , et on élimine une des deux caractéristiques dont **la coef de corrélation** est supérieur à un certain seuil par exemple **coef =7/8**  ===> ainsi on garde que les caractéristiques indépendantes "
   ]
  },
  {
   "cell_type": "code",
   "execution_count": 51,
   "metadata": {
    "colab": {
     "base_uri": "https://localhost:8080/",
     "height": 1000
    },
    "id": "qyI6LP3ll-9U",
    "outputId": "0b97c6f0-218c-4b8c-fb4a-d79b0fed83d4"
   },
   "outputs": [
    {
     "data": {
      "text/plain": [
       "<matplotlib.axes._subplots.AxesSubplot at 0x7fc145e3ad30>"
      ]
     },
     "execution_count": 51,
     "metadata": {
      "tags": []
     },
     "output_type": "execute_result"
    },
    {
     "data": {
      "image/png": "[encoded data removed]",
      "text/plain": [
       "<Figure size 1440x1440 with 2 Axes>"
      ]
     },
     "metadata": {
      "needs_background": "light",
      "tags": []
     },
     "output_type": "display_data"
    }
   ],
   "source": [
    "f,ax = plt.subplots(figsize=(20, 20))\n",
    "#sns.heatmap(encoded_atp.drop(\"Labs\", axis=1).corr(), linewidths=.5, fmt= '.5f',ax=ax)\n",
    "sns.heatmap(df_atp_X.drop(\"Labs\", axis=1).corr(),annot=True, linewidths=.5, fmt= '.2f',ax=ax)"
   ]
  },
  {
   "cell_type": "markdown",
   "metadata": {
    "id": "5vKWb3Uh1I85"
   },
   "source": [
    "On remarque bien que la corrélation est élévée entre les champs des cotes et leurs agrégations par exemple corr(AvgP1,B365p0) =0.96 ...etc . Il est intérissant si on les élimine"
   ]
  },
  {
   "cell_type": "code",
   "execution_count": 50,
   "metadata": {
    "colab": {
     "base_uri": "https://localhost:8080/"
    },
    "id": "rLcc-xtlmCmL",
    "outputId": "667474b4-ef75-42b1-af5b-82b7bbd3b6ac"
   },
   "outputs": [
    {
     "name": "stdout",
     "output_type": "stream",
     "text": [
      "caractérstiques supprimées:   ['Min_P1', 'Min_P0']\n"
     ]
    }
   ],
   "source": [
    "corr_coef=0.95\n",
    "corr_m = df_atp_X.drop(\"Labs\", axis=1).corr().abs()\n",
    "upper = corr_m.where(np.triu(np.ones(corr_m.shape), k=1).astype(np.bool))\n",
    "\n",
    "correlated = [column for column in upper.columns if any(upper[column] > corr_coef)]\n",
    "print(\"caractérstiques supprimées:  \",correlated)\n",
    "# Drop features \n",
    "df_atp_X.drop(correlated, axis=1, inplace=True)\n",
    "\n"
   ]
  },
  {
   "cell_type": "markdown",
   "metadata": {
    "id": "DVE0Zum5Lat4"
   },
   "source": [
    "On remarque que il y une forte corrélation entre Min_p0 ,Min_p1 et resepctivement Avg_p0 et Avg_p1 ce qui est logique car les quatres champs représentent des agrégations sur les valeurs des cotes 'odds'"
   ]
  },
  {
   "cell_type": "code",
   "execution_count": 52,
   "metadata": {
    "colab": {
     "base_uri": "https://localhost:8080/",
     "height": 729
    },
    "id": "R8UrN1QNrLvb",
    "outputId": "07c581d9-ecf4-46c1-f82a-f7c5476f5739"
   },
   "outputs": [
    {
     "data": {
      "image/png": "[encoded data removed]",
      "text/plain": [
       "<Figure size 720x720 with 1 Axes>"
      ]
     },
     "metadata": {
      "needs_background": "light",
      "tags": []
     },
     "output_type": "display_data"
    }
   ],
   "source": [
    "feat_forest = RandomForestClassifier(n_jobs=-1)\n",
    "feat_forest.fit(X=encoded_atp.drop([\"Labs\",\"Date\"], axis=1), y=encoded_atp.loc[:, \"Labs\"])\n",
    "\n",
    "plt.figure(figsize=(10, 10))\n",
    "feat_imp = feat_forest.feature_importances_\n",
    "cols = df_atp_X.columns.drop(['Date','Labs'])\n",
    "\n",
    "feat_imp, cols = zip(*sorted(zip(feat_imp, cols)))\n",
    "\n",
    "plt.barh(range(len(cols)), feat_imp, align=\"center\", color='coral');\n",
    "plt.yticks(range(len(cols)), cols)\n",
    "plt.title(\"Importance des caractéristiques pour la classification\")\n",
    "plt.xlabel(\"Pourcentage d'importance\")\n",
    "plt.tight_layout();"
   ]
  },
  {
   "cell_type": "markdown",
   "metadata": {
    "id": "0bbIZGOo36TY"
   },
   "source": [
    "Les chmaps les plus discriminant pour un randomForest sont les agrégation sur les valeurs des cotes et l'historique du passé des deux joueurs et la dimension topmprelle (Days) "
   ]
  },
  {
   "cell_type": "markdown",
   "metadata": {
    "id": "O4M0aWuSqykT"
   },
   "source": [
    "## Apprentissage et évaluation des modèles :"
   ]
  },
  {
   "cell_type": "markdown",
   "metadata": {
    "id": "Q58Enr1zba3n"
   },
   "source": [
    "### Split des données en Train (<2017) validation (=2018) et test (=2017)\n",
    "\n",
    "Il faut faire bien attention lors du split des données car les données présentent une dimmension temporelle, sur ce genre de données il faut toujours veuiller à conserver l'ordre des séries surtout pas faie une cross validation non étudié. Je propose donc de les diviser d'une manière à ce que les données en train représentent le passé (ordre chrologique respécté) des données utilisées en test."
   ]
  },
  {
   "cell_type": "code",
   "execution_count": 53,
   "metadata": {
    "colab": {
     "base_uri": "https://localhost:8080/"
    },
    "id": "n8rGOP_i3weh",
    "outputId": "bfb66dfa-4e33-4e3b-ca8b-7933bc4d9b4d"
   },
   "outputs": [
    {
     "name": "stdout",
     "output_type": "stream",
     "text": [
      "Ensemble de Train  (42166, 15) (42166,)\n",
      "Ensemble de Validation  (2590, 15) (2590,)\n",
      "Ensemble de Test:      (2576, 15) (2576,)\n"
     ]
    }
   ],
   "source": [
    "year_to_predict = 2017\n",
    "year_to_val     = 2018\n",
    "\n",
    "df_train = df_atp_X.loc[df_atp[df_atp[\"Date\"].dt.year <  year_to_predict].index]\n",
    "df_test  = df_atp_X.loc[df_atp[df_atp[\"Date\"].dt.year == year_to_predict].index]\n",
    "df_val   = df_atp_X.loc[df_atp[df_atp[\"Date\"].dt.year == year_to_val].index]\n",
    "\n",
    "\n",
    "X_train = df_train.drop([\"Labs\",\"Date\"], axis=1)\n",
    "y_train = df_train[\"Labs\"]\n",
    "\n",
    "X_val = df_val.drop([\"Labs\",\"Date\"], axis=1)\n",
    "y_val = df_val[\"Labs\"]\n",
    "\n",
    "X_test = df_test.drop([\"Labs\",\"Date\"], axis=1)\n",
    "y_test = df_test[\"Labs\"]\n",
    "\n",
    "print(\"Ensemble de Train \",X_train.shape,  y_train.shape)\n",
    "print(\"Ensemble de Validation \",X_val.shape,  y_val.shape)\n",
    "print(\"Ensemble de Test:     \",X_test.shape,  y_test.shape)\n",
    "\n"
   ]
  },
  {
   "cell_type": "code",
   "execution_count": 55,
   "metadata": {
    "colab": {
     "base_uri": "https://localhost:8080/"
    },
    "id": "YKGHcErmxWtx",
    "outputId": "ec7e9547-67ab-4006-cfae-eafb390a1c96"
   },
   "outputs": [
    {
     "name": "stdout",
     "output_type": "stream",
     "text": [
      "Requirement already satisfied: catboost in /usr/local/lib/python3.6/dist-packages (0.24.3)\n",
      "Requirement already satisfied: scipy in /usr/local/lib/python3.6/dist-packages (from catboost) (1.4.1)\n",
      "Requirement already satisfied: six in /usr/local/lib/python3.6/dist-packages (from catboost) (1.15.0)\n",
      "Requirement already satisfied: matplotlib in /usr/local/lib/python3.6/dist-packages (from catboost) (3.2.2)\n",
      "Requirement already satisfied: numpy>=1.16.0 in /usr/local/lib/python3.6/dist-packages (from catboost) (1.19.4)\n",
      "Requirement already satisfied: pandas>=0.24.0 in /usr/local/lib/python3.6/dist-packages (from catboost) (1.1.5)\n",
      "Requirement already satisfied: graphviz in /usr/local/lib/python3.6/dist-packages (from catboost) (0.10.1)\n",
      "Requirement already satisfied: plotly in /usr/local/lib/python3.6/dist-packages (from catboost) (4.4.1)\n",
      "Requirement already satisfied: python-dateutil>=2.1 in /usr/local/lib/python3.6/dist-packages (from matplotlib->catboost) (2.8.1)\n",
      "Requirement already satisfied: cycler>=0.10 in /usr/local/lib/python3.6/dist-packages (from matplotlib->catboost) (0.10.0)\n",
      "Requirement already satisfied: kiwisolver>=1.0.1 in /usr/local/lib/python3.6/dist-packages (from matplotlib->catboost) (1.3.1)\n",
      "Requirement already satisfied: pyparsing!=2.0.4,!=2.1.2,!=2.1.6,>=2.0.1 in /usr/local/lib/python3.6/dist-packages (from matplotlib->catboost) (2.4.7)\n",
      "Requirement already satisfied: pytz>=2017.2 in /usr/local/lib/python3.6/dist-packages (from pandas>=0.24.0->catboost) (2018.9)\n",
      "Requirement already satisfied: retrying>=1.3.3 in /usr/local/lib/python3.6/dist-packages (from plotly->catboost) (1.3.3)\n"
     ]
    }
   ],
   "source": [
    "!pip install catboost\n",
    "from catboost import CatBoostClassifier "
   ]
  },
  {
   "cell_type": "code",
   "execution_count": 56,
   "metadata": {
    "id": "TB_77cRjf6R1"
   },
   "outputs": [],
   "source": [
    "sc = StandardScaler()  \n",
    "X_train_scaled = sc.fit_transform(X_train)\n",
    "X_test_scaled = sc.transform(X_test)\n"
   ]
  },
  {
   "cell_type": "markdown",
   "metadata": {
    "id": "z4ogM7FL4pq2"
   },
   "source": [
    "**Métrics d'évaluation :**\n",
    "\n",
    "Il s'agit bien d'un problème de classification binaire on propose alors\n",
    "\n",
    "\n",
    "*  **Accuracy** , **Recall** , **Precision** , **Score F1** et **Score Auc**  comme métrics d'evaluation des modèles.\n",
    "*   **Log_loss** comme fonction de calcul de cout d'erreur (entre y_predict et y)\n",
    "\n"
   ]
  },
  {
   "cell_type": "code",
   "execution_count": 75,
   "metadata": {
    "id": "aCwMumjS7aZ1"
   },
   "outputs": [],
   "source": [
    "def classification_reportUD(y_true, y_pred, name_classifiers, train_time=None):\n",
    "  assert(len(y_pred) == len(name_classifiers))\n",
    "  assert(len(train_time) == len(name_classifiers) if train_time else True)\n",
    "  \n",
    "  reports = []\n",
    "  metrics = [\"Classifier\", \"Accuracy\", \"Precision\", \"Recall\", \"F1-Score\", \"Auc_score\", \"Log_loss\"]\n",
    "  if train_time:\n",
    "    metrics = metrics + [\"Temps d'apprentissage \"]\n",
    "\n",
    "  for idx, y_clf in enumerate(y_pred):\n",
    "    acc = accuracy_score(y_true, y_clf)\n",
    "    pre = precision_score(y_true, y_clf)\n",
    "    rec = recall_score(y_true, y_clf)\n",
    "    f1s = f1_score(y_true, y_clf)\n",
    "    auc = mts.roc_auc_score(y_true,y_clf, average='macro', sample_weight=None)\n",
    "    loss= log_loss(y_true,y_clf)\n",
    "\n",
    "    report = (name_classifiers[idx], acc, pre, rec, f1s,auc, loss)\n",
    "   \n",
    "    if train_time:\n",
    "      report = report + (train_time[idx], )\n",
    "    reports.append(report)\n",
    "        \n",
    "  display(pd.DataFrame.from_records(reports, columns=metrics))\n"
   ]
  },
  {
   "cell_type": "code",
   "execution_count": 62,
   "metadata": {
    "colab": {
     "base_uri": "https://localhost:8080/"
    },
    "id": "WsD_FO-HxHoI",
    "outputId": "a73ce4cc-d7f4-4760-a72e-460ed978b460"
   },
   "outputs": [
    {
     "name": "stdout",
     "output_type": "stream",
     "text": [
      "Modèle : Catboost ===> Temps d'apprentissage: 4.638839960098267 sec\n",
      "Modèle : AdaBoost ===> Temps d'apprentissage: 1.1780672073364258 sec\n",
      "Modèle : Random Forest_estim_31 ===> Temps d'apprentissage: 8.000416040420532 sec\n",
      "Modèle : Random Forest_estim_300 ===> Temps d'apprentissage: 0.32866811752319336 sec\n",
      "Modèle : Decision Tree ===> Temps d'apprentissage: 37.89828634262085 sec\n",
      "Modèle : Linear SVM ===> Temps d'apprentissage: 0.10045671463012695 sec\n",
      "Modèle : K-NN ===> Temps d'apprentissage: 2.5967166423797607 sec\n"
     ]
    }
   ],
   "source": [
    "names_of_classifiers = [\"Catboost\", \"AdaBoost\",\"Random Forest_estim_31\", \"Random Forest_estim_300\", \"Decision Tree\",\"Linear SVM\",\"K-NN\"]\n",
    "\n",
    "classifiers = [\n",
    "    CatBoostClassifier(iterations=200,\n",
    "                           learning_rate=0.1,\n",
    "                           loss_function='Logloss',\n",
    "                           verbose=False),\n",
    "\n",
    "    RandomForestClassifier(n_estimators= 31, criterion=\"gini\", bootstrap = False, max_depth=4, max_features = 'auto',class_weight=\"balanced\"),\n",
    "    RandomForestClassifier(n_estimators= 300, criterion=\"gini\", bootstrap = True, max_depth=4, max_features = 'auto',class_weight=\"balanced\"),\n",
    "    DecisionTreeClassifier(max_depth=9),\n",
    "    SVC(kernel=\"linear\", C=0.03),\n",
    "    KNeighborsClassifier(6, n_jobs=-1),\n",
    "    AdaBoostClassifier()]\n",
    "\n",
    "y_pred = []\n",
    "y_pred_test = []\n",
    "train_time = []\n",
    "\n",
    "for name, classifier in zip(names_of_classifiers, classifiers):\n",
    "    \n",
    "    tic = time()\n",
    "    classifier.fit(X_train_scaled,y_train)\n",
    "    tac = time()\n",
    "\n",
    "    y_predict=classifier.predict(X_test_scaled)\n",
    "    y_Train_predict=classifier.predict(X_train_scaled)\n",
    "    \n",
    "    y_pred.append(y_Train_predict)\n",
    "    y_pred_test.append(y_predict)\n",
    "    train_time.append(tac - tic)\n",
    "    \n",
    "    print(\"Modèle : {} ===> Temps d'apprentissage: {} sec\".format(name, train_time[-1]))\n",
    "\n",
    "    "
   ]
  },
  {
   "cell_type": "markdown",
   "metadata": {
    "id": "HGpEFZZR_fn4"
   },
   "source": [
    "### Evaluation des modèles en Apprentissage"
   ]
  },
  {
   "cell_type": "code",
   "execution_count": 77,
   "metadata": {
    "colab": {
     "base_uri": "https://localhost:8080/",
     "height": 269
    },
    "id": "KxQ_GG-D-3HG",
    "outputId": "7b6a329a-febf-4ed4-9b01-fa38c4263a9f"
   },
   "outputs": [
    {
     "data": {
      "text/html": [
       "<div>\n",
       "<style scoped>\n",
       "    .dataframe tbody tr th:only-of-type {\n",
       "        vertical-align: middle;\n",
       "    }\n",
       "\n",
       "    .dataframe tbody tr th {\n",
       "        vertical-align: top;\n",
       "    }\n",
       "\n",
       "    .dataframe thead th {\n",
       "        text-align: right;\n",
       "    }\n",
       "</style>\n",
       "<table border=\"1\" class=\"dataframe\">\n",
       "  <thead>\n",
       "    <tr style=\"text-align: right;\">\n",
       "      <th></th>\n",
       "      <th>Classifier</th>\n",
       "      <th>Accuracy</th>\n",
       "      <th>Precision</th>\n",
       "      <th>Recall</th>\n",
       "      <th>F1-Score</th>\n",
       "      <th>Auc_score</th>\n",
       "      <th>Log_loss</th>\n",
       "      <th>Temps d'apprentissage</th>\n",
       "    </tr>\n",
       "  </thead>\n",
       "  <tbody>\n",
       "    <tr>\n",
       "      <th>0</th>\n",
       "      <td>Catboost</td>\n",
       "      <td>0.719490</td>\n",
       "      <td>0.722475</td>\n",
       "      <td>0.727196</td>\n",
       "      <td>0.724828</td>\n",
       "      <td>0.719364</td>\n",
       "      <td>9.688598</td>\n",
       "      <td>4.638840</td>\n",
       "    </tr>\n",
       "    <tr>\n",
       "      <th>1</th>\n",
       "      <td>AdaBoost</td>\n",
       "      <td>0.703292</td>\n",
       "      <td>0.709110</td>\n",
       "      <td>0.705303</td>\n",
       "      <td>0.707201</td>\n",
       "      <td>0.703259</td>\n",
       "      <td>10.248057</td>\n",
       "      <td>1.178067</td>\n",
       "    </tr>\n",
       "    <tr>\n",
       "      <th>2</th>\n",
       "      <td>Random Forest_estim_31</td>\n",
       "      <td>0.703268</td>\n",
       "      <td>0.710858</td>\n",
       "      <td>0.701102</td>\n",
       "      <td>0.705946</td>\n",
       "      <td>0.703303</td>\n",
       "      <td>10.248875</td>\n",
       "      <td>8.000416</td>\n",
       "    </tr>\n",
       "    <tr>\n",
       "      <th>3</th>\n",
       "      <td>Random Forest_estim_300</td>\n",
       "      <td>0.720272</td>\n",
       "      <td>0.722672</td>\n",
       "      <td>0.729250</td>\n",
       "      <td>0.725946</td>\n",
       "      <td>0.720126</td>\n",
       "      <td>9.661568</td>\n",
       "      <td>0.328668</td>\n",
       "    </tr>\n",
       "    <tr>\n",
       "      <th>4</th>\n",
       "      <td>Decision Tree</td>\n",
       "      <td>0.692216</td>\n",
       "      <td>0.662123</td>\n",
       "      <td>0.804920</td>\n",
       "      <td>0.726572</td>\n",
       "      <td>0.690375</td>\n",
       "      <td>10.630633</td>\n",
       "      <td>37.898286</td>\n",
       "    </tr>\n",
       "    <tr>\n",
       "      <th>5</th>\n",
       "      <td>Linear SVM</td>\n",
       "      <td>0.744700</td>\n",
       "      <td>0.805481</td>\n",
       "      <td>0.655868</td>\n",
       "      <td>0.723016</td>\n",
       "      <td>0.746151</td>\n",
       "      <td>8.817831</td>\n",
       "      <td>0.100457</td>\n",
       "    </tr>\n",
       "    <tr>\n",
       "      <th>6</th>\n",
       "      <td>K-NN</td>\n",
       "      <td>0.703481</td>\n",
       "      <td>0.705953</td>\n",
       "      <td>0.713565</td>\n",
       "      <td>0.709739</td>\n",
       "      <td>0.703317</td>\n",
       "      <td>10.241508</td>\n",
       "      <td>2.596717</td>\n",
       "    </tr>\n",
       "  </tbody>\n",
       "</table>\n",
       "</div>"
      ],
      "text/plain": [
       "                Classifier  Accuracy  ...   Log_loss  Temps d'apprentissage \n",
       "0                 Catboost  0.719490  ...   9.688598                4.638840\n",
       "1                 AdaBoost  0.703292  ...  10.248057                1.178067\n",
       "2   Random Forest_estim_31  0.703268  ...  10.248875                8.000416\n",
       "3  Random Forest_estim_300  0.720272  ...   9.661568                0.328668\n",
       "4            Decision Tree  0.692216  ...  10.630633               37.898286\n",
       "5               Linear SVM  0.744700  ...   8.817831                0.100457\n",
       "6                     K-NN  0.703481  ...  10.241508                2.596717\n",
       "\n",
       "[7 rows x 8 columns]"
      ]
     },
     "metadata": {
      "tags": []
     },
     "output_type": "display_data"
    }
   ],
   "source": [
    "#rapport d'evaluation en apprentssage\n",
    "classification_reportUD(y_train, y_pred, names_of_classifiers, train_time)"
   ]
  },
  {
   "cell_type": "markdown",
   "metadata": {
    "id": "cHYR9ZU4_PiV"
   },
   "source": [
    "### Evaluation des modèles en test : \n"
   ]
  },
  {
   "cell_type": "code",
   "execution_count": 79,
   "metadata": {
    "colab": {
     "base_uri": "https://localhost:8080/",
     "height": 269
    },
    "id": "Ii_LA4bz_p_s",
    "outputId": "f1fc9598-a34f-47c7-9533-12ca60b354eb"
   },
   "outputs": [
    {
     "data": {
      "text/html": [
       "<div>\n",
       "<style scoped>\n",
       "    .dataframe tbody tr th:only-of-type {\n",
       "        vertical-align: middle;\n",
       "    }\n",
       "\n",
       "    .dataframe tbody tr th {\n",
       "        vertical-align: top;\n",
       "    }\n",
       "\n",
       "    .dataframe thead th {\n",
       "        text-align: right;\n",
       "    }\n",
       "</style>\n",
       "<table border=\"1\" class=\"dataframe\">\n",
       "  <thead>\n",
       "    <tr style=\"text-align: right;\">\n",
       "      <th></th>\n",
       "      <th>Classifier</th>\n",
       "      <th>Accuracy</th>\n",
       "      <th>Precision</th>\n",
       "      <th>Recall</th>\n",
       "      <th>F1-Score</th>\n",
       "      <th>Auc_score</th>\n",
       "      <th>Log_loss</th>\n",
       "    </tr>\n",
       "  </thead>\n",
       "  <tbody>\n",
       "    <tr>\n",
       "      <th>0</th>\n",
       "      <td>Catboost</td>\n",
       "      <td>0.679736</td>\n",
       "      <td>0.697512</td>\n",
       "      <td>0.672918</td>\n",
       "      <td>0.684994</td>\n",
       "      <td>0.679983</td>\n",
       "      <td>11.061647</td>\n",
       "    </tr>\n",
       "    <tr>\n",
       "      <th>1</th>\n",
       "      <td>AdaBoost</td>\n",
       "      <td>0.680124</td>\n",
       "      <td>0.695920</td>\n",
       "      <td>0.678170</td>\n",
       "      <td>0.686930</td>\n",
       "      <td>0.680195</td>\n",
       "      <td>11.048241</td>\n",
       "    </tr>\n",
       "    <tr>\n",
       "      <th>2</th>\n",
       "      <td>Random Forest_estim_31</td>\n",
       "      <td>0.680124</td>\n",
       "      <td>0.696829</td>\n",
       "      <td>0.675919</td>\n",
       "      <td>0.686215</td>\n",
       "      <td>0.680276</td>\n",
       "      <td>11.048240</td>\n",
       "    </tr>\n",
       "    <tr>\n",
       "      <th>3</th>\n",
       "      <td>Random Forest_estim_300</td>\n",
       "      <td>0.644022</td>\n",
       "      <td>0.661240</td>\n",
       "      <td>0.639910</td>\n",
       "      <td>0.650400</td>\n",
       "      <td>0.644171</td>\n",
       "      <td>12.295189</td>\n",
       "    </tr>\n",
       "    <tr>\n",
       "      <th>4</th>\n",
       "      <td>Decision Tree</td>\n",
       "      <td>0.675466</td>\n",
       "      <td>0.660426</td>\n",
       "      <td>0.767442</td>\n",
       "      <td>0.709924</td>\n",
       "      <td>0.672136</td>\n",
       "      <td>11.209176</td>\n",
       "    </tr>\n",
       "    <tr>\n",
       "      <th>5</th>\n",
       "      <td>Linear SVM</td>\n",
       "      <td>0.635481</td>\n",
       "      <td>0.687262</td>\n",
       "      <td>0.542386</td>\n",
       "      <td>0.606289</td>\n",
       "      <td>0.638852</td>\n",
       "      <td>12.590130</td>\n",
       "    </tr>\n",
       "    <tr>\n",
       "      <th>6</th>\n",
       "      <td>K-NN</td>\n",
       "      <td>0.681289</td>\n",
       "      <td>0.698758</td>\n",
       "      <td>0.675169</td>\n",
       "      <td>0.686761</td>\n",
       "      <td>0.681510</td>\n",
       "      <td>11.008015</td>\n",
       "    </tr>\n",
       "  </tbody>\n",
       "</table>\n",
       "</div>"
      ],
      "text/plain": [
       "                Classifier  Accuracy  Precision  ...  F1-Score  Auc_score   Log_loss\n",
       "0                 Catboost  0.679736   0.697512  ...  0.684994   0.679983  11.061647\n",
       "1                 AdaBoost  0.680124   0.695920  ...  0.686930   0.680195  11.048241\n",
       "2   Random Forest_estim_31  0.680124   0.696829  ...  0.686215   0.680276  11.048240\n",
       "3  Random Forest_estim_300  0.644022   0.661240  ...  0.650400   0.644171  12.295189\n",
       "4            Decision Tree  0.675466   0.660426  ...  0.709924   0.672136  11.209176\n",
       "5               Linear SVM  0.635481   0.687262  ...  0.606289   0.638852  12.590130\n",
       "6                     K-NN  0.681289   0.698758  ...  0.686761   0.681510  11.008015\n",
       "\n",
       "[7 rows x 7 columns]"
      ]
     },
     "metadata": {
      "tags": []
     },
     "output_type": "display_data"
    }
   ],
   "source": [
    "#rapport d'evaluation en apprentssage\n",
    "classification_reportUD(y_test, y_pred_test, names_of_classifiers)"
   ]
  },
  {
   "cell_type": "markdown",
   "metadata": {
    "id": "RS_FeNuaBSDz"
   },
   "source": [
    "### Apprentissage et évaluation d'un modèle de type réseau de neuronnes : (**Keras**)\n",
    "\n",
    "On utilise comme fonction de cout d'erreur la CrossEntropy Loss qu'on juge adéquate à la classification.\n",
    "\n",
    "---> Inmplémentation avec un **checkpointing**"
   ]
  },
  {
   "cell_type": "code",
   "execution_count": 92,
   "metadata": {
    "colab": {
     "base_uri": "https://localhost:8080/"
    },
    "id": "aLx_Hdx1J6Di",
    "outputId": "e355f286-6067-47a6-cf05-b413681e7cc5"
   },
   "outputs": [
    {
     "name": "stdout",
     "output_type": "stream",
     "text": [
      "\n",
      "Epoch 00001: val_loss improved from inf to 0.64796, saving model to best_model.h5\n",
      "\n",
      "Epoch 00002: val_loss did not improve from 0.64796\n",
      "\n",
      "Epoch 00003: val_loss did not improve from 0.64796\n",
      "\n",
      "Epoch 00004: val_loss did not improve from 0.64796\n",
      "\n",
      "Epoch 00005: val_loss did not improve from 0.64796\n",
      "\n",
      "Epoch 00006: val_loss did not improve from 0.64796\n",
      "\n",
      "Epoch 00007: val_loss did not improve from 0.64796\n",
      "\n",
      "Epoch 00008: val_loss did not improve from 0.64796\n",
      "\n",
      "Epoch 00009: val_loss did not improve from 0.64796\n",
      "\n",
      "Epoch 00010: val_loss did not improve from 0.64796\n",
      "\n",
      "Epoch 00011: val_loss did not improve from 0.64796\n",
      "\n",
      "Epoch 00012: val_loss did not improve from 0.64796\n",
      "\n",
      "Epoch 00013: val_loss did not improve from 0.64796\n",
      "\n",
      "Epoch 00014: val_loss did not improve from 0.64796\n",
      "\n",
      "Epoch 00015: val_loss did not improve from 0.64796\n",
      "\n",
      "Epoch 00016: val_loss did not improve from 0.64796\n",
      "\n",
      "Epoch 00017: val_loss did not improve from 0.64796\n",
      "\n",
      "Epoch 00018: val_loss did not improve from 0.64796\n",
      "\n",
      "Epoch 00019: val_loss improved from 0.64796 to 0.62896, saving model to best_model.h5\n",
      "\n",
      "Epoch 00020: val_loss did not improve from 0.62896\n",
      "\n",
      "Epoch 00021: val_loss did not improve from 0.62896\n",
      "\n",
      "Epoch 00022: val_loss improved from 0.62896 to 0.60308, saving model to best_model.h5\n",
      "\n",
      "Epoch 00023: val_loss did not improve from 0.60308\n",
      "\n",
      "Epoch 00024: val_loss did not improve from 0.60308\n",
      "\n",
      "Epoch 00025: val_loss did not improve from 0.60308\n",
      "\n",
      "Epoch 00026: val_loss did not improve from 0.60308\n",
      "\n",
      "Epoch 00027: val_loss did not improve from 0.60308\n",
      "\n",
      "Epoch 00028: val_loss did not improve from 0.60308\n",
      "\n",
      "Epoch 00029: val_loss did not improve from 0.60308\n",
      "\n",
      "Epoch 00030: val_loss did not improve from 0.60308\n",
      "\n",
      "Epoch 00031: val_loss did not improve from 0.60308\n",
      "\n",
      "Epoch 00032: val_loss did not improve from 0.60308\n",
      "\n",
      "Epoch 00033: val_loss did not improve from 0.60308\n",
      "\n",
      "Epoch 00034: val_loss did not improve from 0.60308\n",
      "\n",
      "Epoch 00035: val_loss did not improve from 0.60308\n",
      "\n",
      "Epoch 00036: val_loss did not improve from 0.60308\n",
      "\n",
      "Epoch 00037: val_loss did not improve from 0.60308\n",
      "\n",
      "Epoch 00038: val_loss did not improve from 0.60308\n",
      "\n",
      "Epoch 00039: val_loss did not improve from 0.60308\n",
      "\n",
      "Epoch 00040: val_loss did not improve from 0.60308\n",
      "\n",
      "Epoch 00041: val_loss did not improve from 0.60308\n",
      "\n",
      "Epoch 00042: val_loss did not improve from 0.60308\n",
      "\n",
      "Epoch 00043: val_loss did not improve from 0.60308\n",
      "\n",
      "Epoch 00044: val_loss did not improve from 0.60308\n",
      "\n",
      "Epoch 00045: val_loss improved from 0.60308 to 0.59737, saving model to best_model.h5\n",
      "\n",
      "Epoch 00046: val_loss did not improve from 0.59737\n",
      "\n",
      "Epoch 00047: val_loss did not improve from 0.59737\n",
      "\n",
      "Epoch 00048: val_loss did not improve from 0.59737\n",
      "\n",
      "Epoch 00049: val_loss did not improve from 0.59737\n",
      "\n",
      "Epoch 00050: val_loss did not improve from 0.59737\n",
      "\n",
      "Epoch 00051: val_loss did not improve from 0.59737\n",
      "\n",
      "Epoch 00052: val_loss did not improve from 0.59737\n",
      "\n",
      "Epoch 00053: val_loss did not improve from 0.59737\n",
      "\n",
      "Epoch 00054: val_loss did not improve from 0.59737\n",
      "\n",
      "Epoch 00055: val_loss did not improve from 0.59737\n",
      "\n",
      "Epoch 00056: val_loss did not improve from 0.59737\n",
      "\n",
      "Epoch 00057: val_loss did not improve from 0.59737\n",
      "\n",
      "Epoch 00058: val_loss did not improve from 0.59737\n",
      "\n",
      "Epoch 00059: val_loss did not improve from 0.59737\n",
      "\n",
      "Epoch 00060: val_loss did not improve from 0.59737\n",
      "\n",
      "Epoch 00061: val_loss did not improve from 0.59737\n",
      "\n",
      "Epoch 00062: val_loss did not improve from 0.59737\n",
      "\n",
      "Epoch 00063: val_loss did not improve from 0.59737\n",
      "\n",
      "Epoch 00064: val_loss did not improve from 0.59737\n",
      "\n",
      "Epoch 00065: val_loss did not improve from 0.59737\n",
      "\n",
      "Epoch 00066: val_loss did not improve from 0.59737\n",
      "\n",
      "Epoch 00067: val_loss did not improve from 0.59737\n",
      "\n",
      "Epoch 00068: val_loss did not improve from 0.59737\n",
      "\n",
      "Epoch 00069: val_loss improved from 0.59737 to 0.59400, saving model to best_model.h5\n",
      "\n",
      "Epoch 00070: val_loss did not improve from 0.59400\n",
      "\n",
      "Epoch 00071: val_loss did not improve from 0.59400\n",
      "\n",
      "Epoch 00072: val_loss did not improve from 0.59400\n",
      "\n",
      "Epoch 00073: val_loss did not improve from 0.59400\n",
      "\n",
      "Epoch 00074: val_loss did not improve from 0.59400\n",
      "\n",
      "Epoch 00075: val_loss did not improve from 0.59400\n",
      "\n",
      "Epoch 00076: val_loss did not improve from 0.59400\n",
      "\n",
      "Epoch 00077: val_loss did not improve from 0.59400\n",
      "\n",
      "Epoch 00078: val_loss did not improve from 0.59400\n",
      "\n",
      "Epoch 00079: val_loss improved from 0.59400 to 0.59258, saving model to best_model.h5\n",
      "\n",
      "Epoch 00080: val_loss did not improve from 0.59258\n",
      "\n",
      "Epoch 00081: val_loss did not improve from 0.59258\n",
      "\n",
      "Epoch 00082: val_loss did not improve from 0.59258\n",
      "\n",
      "Epoch 00083: val_loss did not improve from 0.59258\n",
      "\n",
      "Epoch 00084: val_loss did not improve from 0.59258\n",
      "\n",
      "Epoch 00085: val_loss did not improve from 0.59258\n",
      "\n",
      "Epoch 00086: val_loss did not improve from 0.59258\n",
      "\n",
      "Epoch 00087: val_loss did not improve from 0.59258\n",
      "\n",
      "Epoch 00088: val_loss did not improve from 0.59258\n",
      "\n",
      "Epoch 00089: val_loss did not improve from 0.59258\n",
      "\n",
      "Epoch 00090: val_loss did not improve from 0.59258\n",
      "\n",
      "Epoch 00091: val_loss did not improve from 0.59258\n",
      "\n",
      "Epoch 00092: val_loss did not improve from 0.59258\n",
      "\n",
      "Epoch 00093: val_loss improved from 0.59258 to 0.59200, saving model to best_model.h5\n",
      "\n",
      "Epoch 00094: val_loss did not improve from 0.59200\n",
      "\n",
      "Epoch 00095: val_loss did not improve from 0.59200\n",
      "\n",
      "Epoch 00096: val_loss did not improve from 0.59200\n",
      "\n",
      "Epoch 00097: val_loss did not improve from 0.59200\n",
      "\n",
      "Epoch 00098: val_loss did not improve from 0.59200\n",
      "\n",
      "Epoch 00099: val_loss did not improve from 0.59200\n",
      "\n",
      "Epoch 00100: val_loss did not improve from 0.59200\n",
      "\n",
      "Epoch 00101: val_loss improved from 0.59200 to 0.59159, saving model to best_model.h5\n",
      "\n",
      "Epoch 00102: val_loss did not improve from 0.59159\n",
      "\n",
      "Epoch 00103: val_loss did not improve from 0.59159\n",
      "\n",
      "Epoch 00104: val_loss did not improve from 0.59159\n",
      "\n",
      "Epoch 00105: val_loss did not improve from 0.59159\n",
      "\n",
      "Epoch 00106: val_loss did not improve from 0.59159\n",
      "\n",
      "Epoch 00107: val_loss did not improve from 0.59159\n",
      "\n",
      "Epoch 00108: val_loss did not improve from 0.59159\n",
      "\n",
      "Epoch 00109: val_loss did not improve from 0.59159\n",
      "\n",
      "Epoch 00110: val_loss did not improve from 0.59159\n",
      "\n",
      "Epoch 00111: val_loss did not improve from 0.59159\n",
      "\n",
      "Epoch 00112: val_loss did not improve from 0.59159\n",
      "\n",
      "Epoch 00113: val_loss did not improve from 0.59159\n",
      "\n",
      "Epoch 00114: val_loss did not improve from 0.59159\n",
      "\n",
      "Epoch 00115: val_loss did not improve from 0.59159\n",
      "\n",
      "Epoch 00116: val_loss did not improve from 0.59159\n",
      "\n",
      "Epoch 00117: val_loss did not improve from 0.59159\n",
      "\n",
      "Epoch 00118: val_loss did not improve from 0.59159\n",
      "\n",
      "Epoch 00119: val_loss did not improve from 0.59159\n",
      "\n",
      "Epoch 00120: val_loss did not improve from 0.59159\n",
      "\n",
      "Epoch 00121: val_loss did not improve from 0.59159\n",
      "\n",
      "Epoch 00122: val_loss did not improve from 0.59159\n",
      "\n",
      "Epoch 00123: val_loss did not improve from 0.59159\n",
      "\n",
      "Epoch 00124: val_loss did not improve from 0.59159\n",
      "\n",
      "Epoch 00125: val_loss did not improve from 0.59159\n",
      "\n",
      "Epoch 00126: val_loss did not improve from 0.59159\n",
      "\n",
      "Epoch 00127: val_loss did not improve from 0.59159\n",
      "\n",
      "Epoch 00128: val_loss did not improve from 0.59159\n",
      "\n",
      "Epoch 00129: val_loss did not improve from 0.59159\n",
      "\n",
      "Epoch 00130: val_loss did not improve from 0.59159\n",
      "\n",
      "Epoch 00131: val_loss did not improve from 0.59159\n",
      "\n",
      "Epoch 00132: val_loss did not improve from 0.59159\n",
      "\n",
      "Epoch 00133: val_loss improved from 0.59159 to 0.59141, saving model to best_model.h5\n",
      "\n",
      "Epoch 00134: val_loss did not improve from 0.59141\n",
      "\n",
      "Epoch 00135: val_loss did not improve from 0.59141\n",
      "\n",
      "Epoch 00136: val_loss did not improve from 0.59141\n",
      "\n",
      "Epoch 00137: val_loss did not improve from 0.59141\n",
      "\n",
      "Epoch 00138: val_loss did not improve from 0.59141\n",
      "\n",
      "Epoch 00139: val_loss did not improve from 0.59141\n",
      "\n",
      "Epoch 00140: val_loss did not improve from 0.59141\n",
      "\n",
      "Epoch 00141: val_loss did not improve from 0.59141\n",
      "\n",
      "Epoch 00142: val_loss did not improve from 0.59141\n",
      "\n",
      "Epoch 00143: val_loss did not improve from 0.59141\n",
      "\n",
      "Epoch 00144: val_loss did not improve from 0.59141\n",
      "\n",
      "Epoch 00145: val_loss did not improve from 0.59141\n",
      "\n",
      "Epoch 00146: val_loss did not improve from 0.59141\n",
      "\n",
      "Epoch 00147: val_loss did not improve from 0.59141\n",
      "\n",
      "Epoch 00148: val_loss did not improve from 0.59141\n",
      "\n",
      "Epoch 00149: val_loss did not improve from 0.59141\n",
      "\n",
      "Epoch 00150: val_loss did not improve from 0.59141\n",
      "\n",
      "Epoch 00151: val_loss did not improve from 0.59141\n",
      "\n",
      "Epoch 00152: val_loss did not improve from 0.59141\n",
      "\n",
      "Epoch 00153: val_loss did not improve from 0.59141\n",
      "\n",
      "Epoch 00154: val_loss did not improve from 0.59141\n",
      "\n",
      "Epoch 00155: val_loss did not improve from 0.59141\n",
      "\n",
      "Epoch 00156: val_loss did not improve from 0.59141\n",
      "\n",
      "Epoch 00157: val_loss improved from 0.59141 to 0.59096, saving model to best_model.h5\n",
      "\n",
      "Epoch 00158: val_loss did not improve from 0.59096\n",
      "\n",
      "Epoch 00159: val_loss did not improve from 0.59096\n",
      "\n",
      "Epoch 00160: val_loss did not improve from 0.59096\n",
      "\n",
      "Epoch 00161: val_loss did not improve from 0.59096\n",
      "\n",
      "Epoch 00162: val_loss did not improve from 0.59096\n",
      "\n",
      "Epoch 00163: val_loss did not improve from 0.59096\n",
      "\n",
      "Epoch 00164: val_loss did not improve from 0.59096\n",
      "\n",
      "Epoch 00165: val_loss did not improve from 0.59096\n",
      "\n",
      "Epoch 00166: val_loss did not improve from 0.59096\n",
      "\n",
      "Epoch 00167: val_loss did not improve from 0.59096\n",
      "\n",
      "Epoch 00168: val_loss did not improve from 0.59096\n",
      "\n",
      "Epoch 00169: val_loss did not improve from 0.59096\n",
      "\n",
      "Epoch 00170: val_loss did not improve from 0.59096\n",
      "\n",
      "Epoch 00171: val_loss did not improve from 0.59096\n",
      "\n",
      "Epoch 00172: val_loss did not improve from 0.59096\n",
      "\n",
      "Epoch 00173: val_loss did not improve from 0.59096\n",
      "\n",
      "Epoch 00174: val_loss did not improve from 0.59096\n",
      "\n",
      "Epoch 00175: val_loss did not improve from 0.59096\n",
      "\n",
      "Epoch 00176: val_loss did not improve from 0.59096\n",
      "\n",
      "Epoch 00177: val_loss did not improve from 0.59096\n",
      "\n",
      "Epoch 00178: val_loss did not improve from 0.59096\n",
      "\n",
      "Epoch 00179: val_loss improved from 0.59096 to 0.59030, saving model to best_model.h5\n",
      "\n",
      "Epoch 00180: val_loss did not improve from 0.59030\n",
      "\n",
      "Epoch 00181: val_loss did not improve from 0.59030\n",
      "\n",
      "Epoch 00182: val_loss did not improve from 0.59030\n",
      "\n",
      "Epoch 00183: val_loss did not improve from 0.59030\n",
      "\n",
      "Epoch 00184: val_loss did not improve from 0.59030\n",
      "\n",
      "Epoch 00185: val_loss did not improve from 0.59030\n",
      "\n",
      "Epoch 00186: val_loss did not improve from 0.59030\n",
      "\n",
      "Epoch 00187: val_loss did not improve from 0.59030\n",
      "\n",
      "Epoch 00188: val_loss did not improve from 0.59030\n",
      "\n",
      "Epoch 00189: val_loss did not improve from 0.59030\n",
      "\n",
      "Epoch 00190: val_loss did not improve from 0.59030\n",
      "\n",
      "Epoch 00191: val_loss did not improve from 0.59030\n",
      "\n",
      "Epoch 00192: val_loss did not improve from 0.59030\n",
      "\n",
      "Epoch 00193: val_loss did not improve from 0.59030\n",
      "\n",
      "Epoch 00194: val_loss did not improve from 0.59030\n",
      "\n",
      "Epoch 00195: val_loss did not improve from 0.59030\n",
      "\n",
      "Epoch 00196: val_loss did not improve from 0.59030\n",
      "\n",
      "Epoch 00197: val_loss did not improve from 0.59030\n",
      "\n",
      "Epoch 00198: val_loss did not improve from 0.59030\n",
      "\n",
      "Epoch 00199: val_loss did not improve from 0.59030\n",
      "\n",
      "Epoch 00200: val_loss did not improve from 0.59030\n",
      "\n",
      "Epoch 00201: val_loss did not improve from 0.59030\n",
      "\n",
      "Epoch 00202: val_loss did not improve from 0.59030\n",
      "\n",
      "Epoch 00203: val_loss did not improve from 0.59030\n",
      "\n",
      "Epoch 00204: val_loss did not improve from 0.59030\n",
      "\n",
      "Epoch 00205: val_loss did not improve from 0.59030\n",
      "\n",
      "Epoch 00206: val_loss did not improve from 0.59030\n",
      "\n",
      "Epoch 00207: val_loss did not improve from 0.59030\n",
      "\n",
      "Epoch 00208: val_loss did not improve from 0.59030\n",
      "\n",
      "Epoch 00209: val_loss did not improve from 0.59030\n",
      "\n",
      "Epoch 00210: val_loss did not improve from 0.59030\n",
      "\n",
      "Epoch 00211: val_loss did not improve from 0.59030\n",
      "\n",
      "Epoch 00212: val_loss did not improve from 0.59030\n",
      "\n",
      "Epoch 00213: val_loss did not improve from 0.59030\n",
      "\n",
      "Epoch 00214: val_loss did not improve from 0.59030\n",
      "\n",
      "Epoch 00215: val_loss did not improve from 0.59030\n",
      "\n",
      "Epoch 00216: val_loss did not improve from 0.59030\n",
      "\n",
      "Epoch 00217: val_loss did not improve from 0.59030\n",
      "\n",
      "Epoch 00218: val_loss did not improve from 0.59030\n",
      "\n",
      "Epoch 00219: val_loss did not improve from 0.59030\n",
      "\n",
      "Epoch 00220: val_loss did not improve from 0.59030\n",
      "\n",
      "Epoch 00221: val_loss did not improve from 0.59030\n",
      "\n",
      "Epoch 00222: val_loss did not improve from 0.59030\n",
      "\n",
      "Epoch 00223: val_loss did not improve from 0.59030\n",
      "\n",
      "Epoch 00224: val_loss did not improve from 0.59030\n",
      "\n",
      "Epoch 00225: val_loss did not improve from 0.59030\n",
      "\n",
      "Epoch 00226: val_loss did not improve from 0.59030\n",
      "\n",
      "Epoch 00227: val_loss did not improve from 0.59030\n",
      "\n",
      "Epoch 00228: val_loss did not improve from 0.59030\n",
      "\n",
      "Epoch 00229: val_loss did not improve from 0.59030\n",
      "\n",
      "Epoch 00230: val_loss did not improve from 0.59030\n",
      "\n",
      "Epoch 00231: val_loss did not improve from 0.59030\n",
      "\n",
      "Epoch 00232: val_loss did not improve from 0.59030\n",
      "\n",
      "Epoch 00233: val_loss did not improve from 0.59030\n",
      "\n",
      "Epoch 00234: val_loss did not improve from 0.59030\n",
      "\n",
      "Epoch 00235: val_loss did not improve from 0.59030\n",
      "\n",
      "Epoch 00236: val_loss did not improve from 0.59030\n",
      "\n",
      "Epoch 00237: val_loss did not improve from 0.59030\n",
      "\n",
      "Epoch 00238: val_loss did not improve from 0.59030\n",
      "\n",
      "Epoch 00239: val_loss did not improve from 0.59030\n",
      "\n",
      "Epoch 00240: val_loss did not improve from 0.59030\n",
      "\n",
      "Epoch 00241: val_loss did not improve from 0.59030\n",
      "\n",
      "Epoch 00242: val_loss did not improve from 0.59030\n",
      "\n",
      "Epoch 00243: val_loss did not improve from 0.59030\n",
      "\n",
      "Epoch 00244: val_loss did not improve from 0.59030\n",
      "\n",
      "Epoch 00245: val_loss did not improve from 0.59030\n",
      "\n",
      "Epoch 00246: val_loss did not improve from 0.59030\n",
      "\n",
      "Epoch 00247: val_loss did not improve from 0.59030\n",
      "\n",
      "Epoch 00248: val_loss did not improve from 0.59030\n",
      "\n",
      "Epoch 00249: val_loss did not improve from 0.59030\n",
      "\n",
      "Epoch 00250: val_loss did not improve from 0.59030\n",
      "\n",
      "Epoch 00251: val_loss did not improve from 0.59030\n",
      "\n",
      "Epoch 00252: val_loss did not improve from 0.59030\n",
      "\n",
      "Epoch 00253: val_loss did not improve from 0.59030\n",
      "\n",
      "Epoch 00254: val_loss did not improve from 0.59030\n",
      "\n",
      "Epoch 00255: val_loss did not improve from 0.59030\n",
      "\n",
      "Epoch 00256: val_loss did not improve from 0.59030\n",
      "\n",
      "Epoch 00257: val_loss did not improve from 0.59030\n",
      "\n",
      "Epoch 00258: val_loss did not improve from 0.59030\n",
      "\n",
      "Epoch 00259: val_loss did not improve from 0.59030\n",
      "\n",
      "Epoch 00260: val_loss did not improve from 0.59030\n",
      "\n",
      "Epoch 00261: val_loss did not improve from 0.59030\n",
      "\n",
      "Epoch 00262: val_loss did not improve from 0.59030\n",
      "\n",
      "Epoch 00263: val_loss did not improve from 0.59030\n",
      "\n",
      "Epoch 00264: val_loss did not improve from 0.59030\n",
      "\n",
      "Epoch 00265: val_loss did not improve from 0.59030\n",
      "\n",
      "Epoch 00266: val_loss did not improve from 0.59030\n",
      "\n",
      "Epoch 00267: val_loss did not improve from 0.59030\n",
      "\n",
      "Epoch 00268: val_loss did not improve from 0.59030\n",
      "\n",
      "Epoch 00269: val_loss did not improve from 0.59030\n",
      "\n",
      "Epoch 00270: val_loss did not improve from 0.59030\n",
      "\n",
      "Epoch 00271: val_loss did not improve from 0.59030\n",
      "\n",
      "Epoch 00272: val_loss did not improve from 0.59030\n",
      "\n",
      "Epoch 00273: val_loss did not improve from 0.59030\n",
      "\n",
      "Epoch 00274: val_loss did not improve from 0.59030\n",
      "\n",
      "Epoch 00275: val_loss did not improve from 0.59030\n",
      "\n",
      "Epoch 00276: val_loss did not improve from 0.59030\n",
      "\n",
      "Epoch 00277: val_loss did not improve from 0.59030\n",
      "\n",
      "Epoch 00278: val_loss did not improve from 0.59030\n",
      "\n",
      "Epoch 00279: val_loss did not improve from 0.59030\n",
      "\n",
      "Epoch 00280: val_loss did not improve from 0.59030\n",
      "\n",
      "Epoch 00281: val_loss did not improve from 0.59030\n",
      "\n",
      "Epoch 00282: val_loss did not improve from 0.59030\n",
      "\n",
      "Epoch 00283: val_loss did not improve from 0.59030\n",
      "\n",
      "Epoch 00284: val_loss did not improve from 0.59030\n",
      "\n",
      "Epoch 00285: val_loss did not improve from 0.59030\n",
      "\n",
      "Epoch 00286: val_loss did not improve from 0.59030\n",
      "\n",
      "Epoch 00287: val_loss did not improve from 0.59030\n",
      "\n",
      "Epoch 00288: val_loss did not improve from 0.59030\n",
      "\n",
      "Epoch 00289: val_loss did not improve from 0.59030\n",
      "\n",
      "Epoch 00290: val_loss did not improve from 0.59030\n",
      "\n",
      "Epoch 00291: val_loss did not improve from 0.59030\n",
      "\n",
      "Epoch 00292: val_loss did not improve from 0.59030\n",
      "\n",
      "Epoch 00293: val_loss did not improve from 0.59030\n",
      "\n",
      "Epoch 00294: val_loss did not improve from 0.59030\n",
      "\n",
      "Epoch 00295: val_loss did not improve from 0.59030\n",
      "\n",
      "Epoch 00296: val_loss did not improve from 0.59030\n",
      "\n",
      "Epoch 00297: val_loss did not improve from 0.59030\n",
      "\n",
      "Epoch 00298: val_loss did not improve from 0.59030\n",
      "\n",
      "Epoch 00299: val_loss did not improve from 0.59030\n",
      "\n",
      "Epoch 00300: val_loss did not improve from 0.59030\n",
      "\n",
      "Epoch 00301: val_loss did not improve from 0.59030\n",
      "\n",
      "Epoch 00302: val_loss did not improve from 0.59030\n",
      "\n",
      "Epoch 00303: val_loss did not improve from 0.59030\n",
      "\n",
      "Epoch 00304: val_loss did not improve from 0.59030\n",
      "\n",
      "Epoch 00305: val_loss did not improve from 0.59030\n",
      "\n",
      "Epoch 00306: val_loss did not improve from 0.59030\n",
      "\n",
      "Epoch 00307: val_loss did not improve from 0.59030\n",
      "\n",
      "Epoch 00308: val_loss did not improve from 0.59030\n",
      "\n",
      "Epoch 00309: val_loss did not improve from 0.59030\n",
      "\n",
      "Epoch 00310: val_loss did not improve from 0.59030\n",
      "\n",
      "Epoch 00311: val_loss did not improve from 0.59030\n",
      "\n",
      "Epoch 00312: val_loss did not improve from 0.59030\n",
      "\n",
      "Epoch 00313: val_loss did not improve from 0.59030\n",
      "\n",
      "Epoch 00314: val_loss did not improve from 0.59030\n",
      "\n",
      "Epoch 00315: val_loss did not improve from 0.59030\n",
      "\n",
      "Epoch 00316: val_loss did not improve from 0.59030\n",
      "\n",
      "Epoch 00317: val_loss did not improve from 0.59030\n",
      "\n",
      "Epoch 00318: val_loss did not improve from 0.59030\n",
      "\n",
      "Epoch 00319: val_loss did not improve from 0.59030\n",
      "\n",
      "Epoch 00320: val_loss did not improve from 0.59030\n",
      "\n",
      "Epoch 00321: val_loss did not improve from 0.59030\n",
      "\n",
      "Epoch 00322: val_loss did not improve from 0.59030\n",
      "\n",
      "Epoch 00323: val_loss did not improve from 0.59030\n",
      "\n",
      "Epoch 00324: val_loss did not improve from 0.59030\n",
      "\n",
      "Epoch 00325: val_loss did not improve from 0.59030\n",
      "\n",
      "Epoch 00326: val_loss did not improve from 0.59030\n",
      "\n",
      "Epoch 00327: val_loss did not improve from 0.59030\n",
      "\n",
      "Epoch 00328: val_loss did not improve from 0.59030\n",
      "\n",
      "Epoch 00329: val_loss did not improve from 0.59030\n",
      "\n",
      "Epoch 00330: val_loss did not improve from 0.59030\n",
      "\n",
      "Epoch 00331: val_loss did not improve from 0.59030\n",
      "\n",
      "Epoch 00332: val_loss did not improve from 0.59030\n",
      "\n",
      "Epoch 00333: val_loss did not improve from 0.59030\n",
      "\n",
      "Epoch 00334: val_loss did not improve from 0.59030\n",
      "\n",
      "Epoch 00335: val_loss did not improve from 0.59030\n",
      "\n",
      "Epoch 00336: val_loss did not improve from 0.59030\n",
      "\n",
      "Epoch 00337: val_loss did not improve from 0.59030\n",
      "\n",
      "Epoch 00338: val_loss did not improve from 0.59030\n",
      "\n",
      "Epoch 00339: val_loss did not improve from 0.59030\n",
      "\n",
      "Epoch 00340: val_loss did not improve from 0.59030\n",
      "\n",
      "Epoch 00341: val_loss did not improve from 0.59030\n",
      "\n",
      "Epoch 00342: val_loss did not improve from 0.59030\n",
      "\n",
      "Epoch 00343: val_loss did not improve from 0.59030\n",
      "\n",
      "Epoch 00344: val_loss did not improve from 0.59030\n",
      "\n",
      "Epoch 00345: val_loss did not improve from 0.59030\n",
      "\n",
      "Epoch 00346: val_loss did not improve from 0.59030\n",
      "\n",
      "Epoch 00347: val_loss did not improve from 0.59030\n",
      "\n",
      "Epoch 00348: val_loss did not improve from 0.59030\n",
      "\n",
      "Epoch 00349: val_loss did not improve from 0.59030\n",
      "\n",
      "Epoch 00350: val_loss did not improve from 0.59030\n",
      "\n",
      "Epoch 00351: val_loss did not improve from 0.59030\n",
      "\n",
      "Epoch 00352: val_loss did not improve from 0.59030\n",
      "\n",
      "Epoch 00353: val_loss did not improve from 0.59030\n",
      "\n",
      "Epoch 00354: val_loss did not improve from 0.59030\n",
      "\n",
      "Epoch 00355: val_loss did not improve from 0.59030\n",
      "\n",
      "Epoch 00356: val_loss did not improve from 0.59030\n",
      "\n",
      "Epoch 00357: val_loss did not improve from 0.59030\n",
      "\n",
      "Epoch 00358: val_loss did not improve from 0.59030\n",
      "\n",
      "Epoch 00359: val_loss did not improve from 0.59030\n",
      "\n",
      "Epoch 00360: val_loss did not improve from 0.59030\n",
      "\n",
      "Epoch 00361: val_loss did not improve from 0.59030\n",
      "\n",
      "Epoch 00362: val_loss did not improve from 0.59030\n",
      "\n",
      "Epoch 00363: val_loss did not improve from 0.59030\n",
      "\n",
      "Epoch 00364: val_loss did not improve from 0.59030\n",
      "\n",
      "Epoch 00365: val_loss did not improve from 0.59030\n",
      "\n",
      "Epoch 00366: val_loss did not improve from 0.59030\n",
      "\n",
      "Epoch 00367: val_loss did not improve from 0.59030\n",
      "\n",
      "Epoch 00368: val_loss did not improve from 0.59030\n",
      "\n",
      "Epoch 00369: val_loss did not improve from 0.59030\n",
      "\n",
      "Epoch 00370: val_loss did not improve from 0.59030\n",
      "\n",
      "Epoch 00371: val_loss did not improve from 0.59030\n",
      "\n",
      "Epoch 00372: val_loss did not improve from 0.59030\n",
      "\n",
      "Epoch 00373: val_loss did not improve from 0.59030\n",
      "\n",
      "Epoch 00374: val_loss did not improve from 0.59030\n",
      "\n",
      "Epoch 00375: val_loss did not improve from 0.59030\n",
      "\n",
      "Epoch 00376: val_loss did not improve from 0.59030\n",
      "\n",
      "Epoch 00377: val_loss did not improve from 0.59030\n",
      "\n",
      "Epoch 00378: val_loss did not improve from 0.59030\n",
      "\n",
      "Epoch 00379: val_loss did not improve from 0.59030\n",
      "\n",
      "Epoch 00380: val_loss did not improve from 0.59030\n",
      "\n",
      "Epoch 00381: val_loss did not improve from 0.59030\n",
      "\n",
      "Epoch 00382: val_loss did not improve from 0.59030\n",
      "\n",
      "Epoch 00383: val_loss did not improve from 0.59030\n",
      "\n",
      "Epoch 00384: val_loss did not improve from 0.59030\n",
      "\n",
      "Epoch 00385: val_loss did not improve from 0.59030\n",
      "\n",
      "Epoch 00386: val_loss did not improve from 0.59030\n",
      "\n",
      "Epoch 00387: val_loss did not improve from 0.59030\n",
      "\n",
      "Epoch 00388: val_loss did not improve from 0.59030\n",
      "\n",
      "Epoch 00389: val_loss did not improve from 0.59030\n",
      "\n",
      "Epoch 00390: val_loss did not improve from 0.59030\n",
      "\n",
      "Epoch 00391: val_loss did not improve from 0.59030\n",
      "\n",
      "Epoch 00392: val_loss did not improve from 0.59030\n",
      "\n",
      "Epoch 00393: val_loss did not improve from 0.59030\n",
      "\n",
      "Epoch 00394: val_loss did not improve from 0.59030\n",
      "\n",
      "Epoch 00395: val_loss did not improve from 0.59030\n",
      "\n",
      "Epoch 00396: val_loss did not improve from 0.59030\n",
      "\n",
      "Epoch 00397: val_loss did not improve from 0.59030\n",
      "\n",
      "Epoch 00398: val_loss did not improve from 0.59030\n",
      "\n",
      "Epoch 00399: val_loss did not improve from 0.59030\n",
      "\n",
      "Epoch 00400: val_loss did not improve from 0.59030\n",
      "\n",
      "Epoch 00401: val_loss did not improve from 0.59030\n",
      "\n",
      "Epoch 00402: val_loss did not improve from 0.59030\n",
      "\n",
      "Epoch 00403: val_loss did not improve from 0.59030\n",
      "\n",
      "Epoch 00404: val_loss did not improve from 0.59030\n",
      "\n",
      "Epoch 00405: val_loss did not improve from 0.59030\n",
      "\n",
      "Epoch 00406: val_loss did not improve from 0.59030\n",
      "\n",
      "Epoch 00407: val_loss did not improve from 0.59030\n",
      "\n",
      "Epoch 00408: val_loss did not improve from 0.59030\n",
      "\n",
      "Epoch 00409: val_loss did not improve from 0.59030\n",
      "\n",
      "Epoch 00410: val_loss did not improve from 0.59030\n",
      "\n",
      "Epoch 00411: val_loss did not improve from 0.59030\n",
      "\n",
      "Epoch 00412: val_loss did not improve from 0.59030\n",
      "\n",
      "Epoch 00413: val_loss did not improve from 0.59030\n",
      "\n",
      "Epoch 00414: val_loss did not improve from 0.59030\n",
      "\n",
      "Epoch 00415: val_loss did not improve from 0.59030\n",
      "\n",
      "Epoch 00416: val_loss did not improve from 0.59030\n",
      "\n",
      "Epoch 00417: val_loss did not improve from 0.59030\n",
      "\n",
      "Epoch 00418: val_loss did not improve from 0.59030\n",
      "\n",
      "Epoch 00419: val_loss did not improve from 0.59030\n",
      "\n",
      "Epoch 00420: val_loss did not improve from 0.59030\n",
      "\n",
      "Epoch 00421: val_loss did not improve from 0.59030\n",
      "\n",
      "Epoch 00422: val_loss did not improve from 0.59030\n",
      "\n",
      "Epoch 00423: val_loss did not improve from 0.59030\n",
      "\n",
      "Epoch 00424: val_loss did not improve from 0.59030\n",
      "\n",
      "Epoch 00425: val_loss did not improve from 0.59030\n",
      "\n",
      "Epoch 00426: val_loss did not improve from 0.59030\n",
      "\n",
      "Epoch 00427: val_loss did not improve from 0.59030\n",
      "\n",
      "Epoch 00428: val_loss did not improve from 0.59030\n",
      "\n",
      "Epoch 00429: val_loss did not improve from 0.59030\n",
      "\n",
      "Epoch 00430: val_loss did not improve from 0.59030\n",
      "\n",
      "Epoch 00431: val_loss did not improve from 0.59030\n",
      "\n",
      "Epoch 00432: val_loss did not improve from 0.59030\n",
      "\n",
      "Epoch 00433: val_loss did not improve from 0.59030\n",
      "\n",
      "Epoch 00434: val_loss did not improve from 0.59030\n",
      "\n",
      "Epoch 00435: val_loss did not improve from 0.59030\n",
      "\n",
      "Epoch 00436: val_loss did not improve from 0.59030\n",
      "\n",
      "Epoch 00437: val_loss did not improve from 0.59030\n",
      "\n",
      "Epoch 00438: val_loss did not improve from 0.59030\n",
      "\n",
      "Epoch 00439: val_loss did not improve from 0.59030\n",
      "\n",
      "Epoch 00440: val_loss did not improve from 0.59030\n",
      "\n",
      "Epoch 00441: val_loss did not improve from 0.59030\n",
      "\n",
      "Epoch 00442: val_loss did not improve from 0.59030\n",
      "\n",
      "Epoch 00443: val_loss did not improve from 0.59030\n",
      "\n",
      "Epoch 00444: val_loss did not improve from 0.59030\n",
      "\n",
      "Epoch 00445: val_loss did not improve from 0.59030\n",
      "\n",
      "Epoch 00446: val_loss did not improve from 0.59030\n",
      "\n",
      "Epoch 00447: val_loss did not improve from 0.59030\n",
      "\n",
      "Epoch 00448: val_loss did not improve from 0.59030\n",
      "\n",
      "Epoch 00449: val_loss did not improve from 0.59030\n",
      "\n",
      "Epoch 00450: val_loss did not improve from 0.59030\n",
      "\n",
      "Epoch 00451: val_loss did not improve from 0.59030\n",
      "\n",
      "Epoch 00452: val_loss did not improve from 0.59030\n",
      "\n",
      "Epoch 00453: val_loss did not improve from 0.59030\n",
      "\n",
      "Epoch 00454: val_loss did not improve from 0.59030\n",
      "\n",
      "Epoch 00455: val_loss did not improve from 0.59030\n",
      "\n",
      "Epoch 00456: val_loss did not improve from 0.59030\n",
      "\n",
      "Epoch 00457: val_loss did not improve from 0.59030\n",
      "\n",
      "Epoch 00458: val_loss did not improve from 0.59030\n",
      "\n",
      "Epoch 00459: val_loss did not improve from 0.59030\n",
      "\n",
      "Epoch 00460: val_loss did not improve from 0.59030\n",
      "\n",
      "Epoch 00461: val_loss did not improve from 0.59030\n",
      "\n",
      "Epoch 00462: val_loss did not improve from 0.59030\n",
      "\n",
      "Epoch 00463: val_loss did not improve from 0.59030\n",
      "\n",
      "Epoch 00464: val_loss did not improve from 0.59030\n",
      "\n",
      "Epoch 00465: val_loss did not improve from 0.59030\n",
      "\n",
      "Epoch 00466: val_loss did not improve from 0.59030\n",
      "\n",
      "Epoch 00467: val_loss did not improve from 0.59030\n",
      "\n",
      "Epoch 00468: val_loss did not improve from 0.59030\n",
      "\n",
      "Epoch 00469: val_loss did not improve from 0.59030\n",
      "\n",
      "Epoch 00470: val_loss did not improve from 0.59030\n",
      "\n",
      "Epoch 00471: val_loss did not improve from 0.59030\n",
      "\n",
      "Epoch 00472: val_loss did not improve from 0.59030\n",
      "\n",
      "Epoch 00473: val_loss did not improve from 0.59030\n",
      "\n",
      "Epoch 00474: val_loss did not improve from 0.59030\n",
      "\n",
      "Epoch 00475: val_loss did not improve from 0.59030\n",
      "\n",
      "Epoch 00476: val_loss did not improve from 0.59030\n",
      "\n",
      "Epoch 00477: val_loss did not improve from 0.59030\n",
      "\n",
      "Epoch 00478: val_loss did not improve from 0.59030\n",
      "\n",
      "Epoch 00479: val_loss did not improve from 0.59030\n",
      "\n",
      "Epoch 00480: val_loss did not improve from 0.59030\n",
      "\n",
      "Epoch 00481: val_loss did not improve from 0.59030\n",
      "\n",
      "Epoch 00482: val_loss did not improve from 0.59030\n",
      "\n",
      "Epoch 00483: val_loss did not improve from 0.59030\n",
      "\n",
      "Epoch 00484: val_loss did not improve from 0.59030\n",
      "\n",
      "Epoch 00485: val_loss did not improve from 0.59030\n",
      "\n",
      "Epoch 00486: val_loss did not improve from 0.59030\n",
      "\n",
      "Epoch 00487: val_loss did not improve from 0.59030\n",
      "\n",
      "Epoch 00488: val_loss did not improve from 0.59030\n",
      "\n",
      "Epoch 00489: val_loss did not improve from 0.59030\n",
      "\n",
      "Epoch 00490: val_loss did not improve from 0.59030\n",
      "\n",
      "Epoch 00491: val_loss did not improve from 0.59030\n",
      "\n",
      "Epoch 00492: val_loss did not improve from 0.59030\n",
      "\n",
      "Epoch 00493: val_loss did not improve from 0.59030\n",
      "\n",
      "Epoch 00494: val_loss did not improve from 0.59030\n",
      "\n",
      "Epoch 00495: val_loss did not improve from 0.59030\n",
      "\n",
      "Epoch 00496: val_loss did not improve from 0.59030\n",
      "\n",
      "Epoch 00497: val_loss did not improve from 0.59030\n",
      "\n",
      "Epoch 00498: val_loss did not improve from 0.59030\n",
      "\n",
      "Epoch 00499: val_loss did not improve from 0.59030\n",
      "\n",
      "Epoch 00500: val_loss did not improve from 0.59030\n"
     ]
    }
   ],
   "source": [
    "network = models.Sequential()\n",
    "network.add(layers.Dense(units=64, activation='relu', input_shape=(len(X_train.columns),)))\n",
    "network.add(layers.Dense(units=32, activation='relu'))\n",
    "network.add(layers.Dense(units=16, activation='relu'))\n",
    "network.add(layers.Dense(units=1, activation='sigmoid'))\n",
    "\n",
    "network.compile(loss='binary_crossentropy', optimizer='adam', metrics=['accuracy']) \n",
    "\n",
    "es = EarlyStopping(monitor='val_loss', mode='min', verbose=0, patience=500)\n",
    "mc = ModelCheckpoint('best_model.h5', monitor='val_loss', mode='min', verbose=2, save_best_only=True)\n",
    "\n",
    "!rm 'best_model.h5'\n",
    "history = network.fit(X_train, y_train, \n",
    "            epochs=500, verbose=0, batch_size=130, \n",
    "            validation_data=(X_val, y_val), callbacks=[es, mc]) \n"
   ]
  },
  {
   "cell_type": "code",
   "execution_count": 86,
   "metadata": {
    "id": "AqbWRXNuKKPP"
   },
   "outputs": [],
   "source": [
    "saved_model=load_model('best_model.h5')"
   ]
  },
  {
   "cell_type": "code",
   "execution_count": 87,
   "metadata": {
    "colab": {
     "base_uri": "https://localhost:8080/"
    },
    "id": "ToUMHGjCKOK6",
    "outputId": "0e1cfd94-95cf-4094-d2eb-ad68458d4641"
   },
   "outputs": [
    {
     "name": "stdout",
     "output_type": "stream",
     "text": [
      "Accuracy en Train: 0.703,Accuracy en Test: 0.679\n"
     ]
    }
   ],
   "source": [
    "_, train_acc = saved_model.evaluate(X_train, y_train, verbose=0)\n",
    "_, test_acc =  saved_model.evaluate(X_test, y_test, verbose=0)\n",
    "\n",
    "print('Accuracy en Train: %.3f,Accuracy en Test: %.3f' % (train_acc, test_acc))"
   ]
  },
  {
   "cell_type": "code",
   "execution_count": 91,
   "metadata": {
    "colab": {
     "base_uri": "https://localhost:8080/",
     "height": 367
    },
    "id": "yfX6_bkGMulx",
    "outputId": "68a26357-3f07-4f98-cd68-1146f84b7194"
   },
   "outputs": [
    {
     "data": {
      "text/plain": [
       "<matplotlib.legend.Legend at 0x7fc12bcbb0b8>"
      ]
     },
     "execution_count": 91,
     "metadata": {
      "tags": []
     },
     "output_type": "execute_result"
    },
    {
     "data": {
      "image/png": "[encoded data removed]",
      "text/plain": [
       "<Figure size 1080x360 with 2 Axes>"
      ]
     },
     "metadata": {
      "needs_background": "light",
      "tags": []
     },
     "output_type": "display_data"
    }
   ],
   "source": [
    "\n",
    "\n",
    "plt.subplots(figsize=(15, 5))\n",
    "plt.subplot(1, 2, 1)\n",
    "plt.title('Erreur après chaque epoch')\n",
    "plt.plot(history.epoch[::10], history.history['loss'][::10], label='Train')\n",
    "plt.plot(history.epoch[::10], history.history['val_loss'][::10], label='Test')\n",
    "plt.legend(['Train', 'Test'],loc='upper right', title='Sample', facecolor='white',fancybox=True)\n",
    "plt.xlabel('Loss')\n",
    "plt.ylabel('Epochs')\n",
    "\n",
    "plt.subplot(1, 2, 2)\n",
    "plt.title('Accuracy après chaque epoch')\n",
    "plt.plot(history.epoch[::10], history.history['accuracy'][::10], label='Train')\n",
    "plt.plot(history.epoch[::10], history.history['val_accuracy'][::10], label='Test')\n",
    "plt.xlabel('Accuracy')\n",
    "plt.ylabel('Epochs')\n",
    "plt.legend(['Train', 'Test'], loc='upper left', title='Sample', facecolor='white', fancybox=True)\n",
    "\n"
   ]
  },
  {
   "cell_type": "markdown",
   "metadata": {
    "id": "_A34Or-RWSCA"
   },
   "source": [
    "### Axes d'amélioration:\n",
    "\n",
    "\n",
    "\n",
    "*   Ajouter des features pertinentes décrivant en détails les performances des joueurs tels que : le pourcentage du gain sur des terrain de type : grass, hard ... etc. Pourcentage des points reportées à un ensemble données par type de terrain.\n",
    "\n",
    "*  Ces features peuvent améliorer l'accuracy des modèles surtout celle des réseau de neuronnes \n",
    "\n",
    "*  Mais on s'attend pas à une **Accuracy** qui dépasse 0.75 par ce que il y toujours un facteur aléatoire qui influence les résultats des matchs malgré les informations à priori portant soit sue les cotes, les performances des joueurs, ou vir meme l'environement du jeu.\n",
    "\n"
   ]
  },
  {
   "cell_type": "markdown",
   "metadata": {
    "id": "W_C41Z1sZbrD"
   },
   "source": [
    "## FIN"
   ]
  }
 ],
 "metadata": {
  "colab": {
   "collapsed_sections": [],
   "name": "tennis_match_outcomes_prediction.ipynb",
   "provenance": []
  },
  "kernelspec": {
   "display_name": "Python 3",
   "language": "python",
   "name": "python3"
  },
  "language_info": {
   "codemirror_mode": {
    "name": "ipython",
    "version": 3
   },
   "file_extension": ".py",
   "mimetype": "text/x-python",
   "name": "python",
   "nbconvert_exporter": "python",
   "pygments_lexer": "ipython3",
   "version": "3.7.10"
  }
 },
 "nbformat": 4,
 "nbformat_minor": 1
}
